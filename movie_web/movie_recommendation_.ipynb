{
 "cells": [
  {
   "cell_type": "code",
   "execution_count": 3,
   "metadata": {},
   "outputs": [],
   "source": [
    "# !pip install scikit-learn"
   ]
  },
  {
   "cell_type": "code",
   "execution_count": 4,
   "metadata": {},
   "outputs": [],
   "source": [
    "import os\n",
    "import pymysql\n",
    "import time\n",
    "import pandas as pd\n",
    "import numpy as np\n",
    "from tqdm import tqdm\n",
    "from sklearn.metrics.pairwise import euclidean_distances\n",
    "from sklearn.preprocessing import StandardScaler\n",
    "import json\n"
   ]
  },
  {
   "cell_type": "code",
   "execution_count": 5,
   "metadata": {},
   "outputs": [],
   "source": [
    "db = pymysql.connect(\n",
    "    # host = \"aws db 엔드포인트\",\n",
    "    host=\"\",\n",
    "    port=3306,\n",
    "    user='admin',\n",
    "    # passwd='관리자 계정 비밀번호',\n",
    "    passwd=\"\",\n",
    "    db='movie_db',\n",
    "    charset='utf8'\n",
    ")"
   ]
  },
  {
   "cell_type": "code",
   "execution_count": 6,
   "metadata": {},
   "outputs": [
    {
     "name": "stderr",
     "output_type": "stream",
     "text": [
      "C:\\Users\\dlsrb\\AppData\\Local\\Temp\\ipykernel_20296\\3393629625.py:3: UserWarning: pandas only supports SQLAlchemy connectable (engine/connection) or database string URI or sqlite3 DBAPI2 connection. Other DBAPI2 objects are not tested. Please consider using SQLAlchemy.\n",
      "  movie_df = pd.read_sql(sql, db)\n"
     ]
    }
   ],
   "source": [
    "sql = \"select * from movie\"\n",
    "\n",
    "movie_df = pd.read_sql(sql, db)\n",
    "# movie_df \n",
    "## -> synopsis_vector 컬럼에 값이 추가된 상황"
   ]
  },
  {
   "cell_type": "code",
   "execution_count": 7,
   "metadata": {},
   "outputs": [
    {
     "data": {
      "text/plain": [
       "b\"$\\x0c\\xd8=\\x99\\xdb\\xf5\\xbcv\\x89\\xa2<\\xcc\\x8b\\xf8=\\x96\\xeeW\\xbd\\n\\xf5\\xaa;^\\xf4\\xfb;\\xae5N\\xbd\\xa5\\x87\\xf9\\xbd\\xc1pV=\\x99\\xbe\\x88\\xbd3\\xc4)\\xbe\\xcb\\xc6\\xb7\\xbd\\xf5\\x8a\\xbd<G0<>s\\xcc4>\\xd2D\\x87\\xbe\\xeci\\xe2\\xbc\\x9f\\xfb-=\\xdb U\\xbe~\\xc1:=\\xd0\\xe1\\xf0=\\x90\\xdb\\xb8=\\xf2WW\\xbd\\x816N<-\\xf8\\xff\\xbb\\xad\\xe9\\xa2=>`\\\\>~\\xbc5\\xbe\\x11\\xe9e\\xbe\\xbc\\xe4Y>O\\xa5\\x90\\xbd\\x13f\\x19>\\x99\\x10\\x95\\xbdN\\xca\\xc0=F\\xb1x>-$\\x9e>\\xfb\\x82^\\xbd\\xb6\\x97,\\xbe\\x862\\xac\\xbdD'\\xc1\\xbc\\xf4\\x88\\x0e>\\x10D]\\xbe\\xd12\\x14< \\xd4\\x8d>\\xf2\\xb6A=1\\x03\\x18\\xbe\\xf1\\xc3\\x83>W\\xb1p=\\x82\\xde\\x9b=K\\x97\\xeb=\\xb9$\\xba=\\xab\\x81\\xd7=@\\x16\\xf4\\xbdkQ\\xa7=\\x1e]\\x19=w}\\x06>\\xa14\\x10\\xbe\\x03\\xd9b\\xbd\\x1e\\x1c^\\xbev\\x81\\n\\xbda^\\x8a\\xbd'\\xed1\\xbe\\xa2\\x83\\x03=0\\xbe\\xa5\\xbe\\xdd\\xffI\\xbe\\xa7\\x87\\xbf\\xbd\\x04\\xd0i>\\x9b\\x0e1>\\xba3\\x81>\\xe3>(=\\x9d\\x87\\x14\\xbe\\xa1W\\x16\\xbe\\xee\\x8a\\x89=\\xd9U\\x1e\\xbd\\x9e~M=\\xc7LD<\\x1f\\x03\\x83\\xbe\\xf9b\\x87\\xbd\\x87\\xd1n\\xbe\""
      ]
     },
     "execution_count": 7,
     "metadata": {},
     "output_type": "execute_result"
    }
   ],
   "source": [
    "# 범죄도시3 wordvector를 문자열로 변환한 synopsis_vector 컬럼값을 string_array에 할당\n",
    "string_array = movie_df.loc[0,\"synopsis_vector\"]\n",
    "string_array"
   ]
  },
  {
   "cell_type": "code",
   "execution_count": 8,
   "metadata": {},
   "outputs": [
    {
     "name": "stderr",
     "output_type": "stream",
     "text": [
      "C:\\Users\\dlsrb\\AppData\\Local\\Temp\\ipykernel_20296\\714448942.py:2: DeprecationWarning: The binary mode of fromstring is deprecated, as it behaves surprisingly on unicode inputs. Use frombuffer instead\n",
      "  numpy_array = np.fromstring(string_array, dtype=\"float32\")\n"
     ]
    }
   ],
   "source": [
    "# 다시 numpy 배열로 반환\n",
    "numpy_array = np.fromstring(string_array, dtype=\"float32\")\n",
    "# numpy_array"
   ]
  },
  {
   "cell_type": "code",
   "execution_count": 20,
   "metadata": {},
   "outputs": [],
   "source": [
    "# 모든 행의 synopsis_vector 컬럼 값 출력\n",
    "# movie_df.loc[:,\"synopsis_vector\"]\n"
   ]
  },
  {
   "cell_type": "code",
   "execution_count": 9,
   "metadata": {},
   "outputs": [
    {
     "name": "stderr",
     "output_type": "stream",
     "text": [
      "C:\\Users\\dlsrb\\AppData\\Local\\Temp\\ipykernel_20296\\1359174774.py:2: DeprecationWarning: The binary mode of fromstring is deprecated, as it behaves surprisingly on unicode inputs. Use frombuffer instead\n",
      "  movie_df.loc[:,\"synopsis_vector_numpy\"] = movie_df.loc[:,\"synopsis_vector\"].apply(lambda x:np.fromstring(x,dtype=\"float32\"))\n"
     ]
    }
   ],
   "source": [
    "\n",
    "# 모든 행의 synopsis_vector 컬럼 값을 numpy 배열로 반환\n",
    "movie_df.loc[:,\"synopsis_vector_numpy\"] = movie_df.loc[:,\"synopsis_vector\"].apply(lambda x:np.fromstring(x,dtype=\"float32\"))"
   ]
  },
  {
   "cell_type": "code",
   "execution_count": 25,
   "metadata": {},
   "outputs": [],
   "source": [
    "# movie_df.loc[:,\"synopsis_vector_numpy\"]\n",
    "# movie_df"
   ]
  },
  {
   "cell_type": "code",
   "execution_count": 10,
   "metadata": {},
   "outputs": [
    {
     "data": {
      "text/plain": [
       "array([[ 0.10549191, -0.03001194,  0.01984094, ..., -0.2558832 ,\n",
       "        -0.06610674, -0.23322116],\n",
       "       [ 0.10602392, -0.02949523,  0.01761587, ..., -0.25908002,\n",
       "        -0.06463878, -0.23570916],\n",
       "       [ 0.09180073, -0.02679259,  0.01769824, ..., -0.2296537 ,\n",
       "        -0.06259017, -0.21002947],\n",
       "       ...,\n",
       "       [ 0.11019026, -0.02762597,  0.0196363 , ..., -0.25955552,\n",
       "        -0.0693134 , -0.24230015],\n",
       "       [ 0.10236674, -0.03028922,  0.0188951 , ..., -0.2553198 ,\n",
       "        -0.06475563, -0.22872649],\n",
       "       [ 0.091694  , -0.02676833,  0.01600216, ..., -0.22744277,\n",
       "        -0.05735921, -0.20284282]], dtype=float32)"
      ]
     },
     "execution_count": 10,
     "metadata": {},
     "output_type": "execute_result"
    }
   ],
   "source": [
    "# synopsis_vector_numpy 컬럼을 리스트로 변환\n",
    "movie_df[\"synopsis_vector_numpy\"].tolist()\n",
    "\n",
    "## 이를 2차원 배열로 변경\n",
    "np.array(movie_df[\"synopsis_vector_numpy\"].tolist())"
   ]
  },
  {
   "cell_type": "code",
   "execution_count": null,
   "metadata": {},
   "outputs": [],
   "source": []
  },
  {
   "cell_type": "markdown",
   "metadata": {},
   "source": [
    "#### 데이터의 각 `column` 의 평균을 뺀 다음 표준편차로 나눠 평균을 0으로 표준편차를 1로 변환하는 `StandardScalar` 객체 생성"
   ]
  },
  {
   "cell_type": "code",
   "execution_count": 11,
   "metadata": {},
   "outputs": [],
   "source": [
    "scaler = StandardScaler()"
   ]
  },
  {
   "cell_type": "code",
   "execution_count": 12,
   "metadata": {},
   "outputs": [
    {
     "data": {
      "text/html": [
       "<style>#sk-container-id-1 {color: black;}#sk-container-id-1 pre{padding: 0;}#sk-container-id-1 div.sk-toggleable {background-color: white;}#sk-container-id-1 label.sk-toggleable__label {cursor: pointer;display: block;width: 100%;margin-bottom: 0;padding: 0.3em;box-sizing: border-box;text-align: center;}#sk-container-id-1 label.sk-toggleable__label-arrow:before {content: \"▸\";float: left;margin-right: 0.25em;color: #696969;}#sk-container-id-1 label.sk-toggleable__label-arrow:hover:before {color: black;}#sk-container-id-1 div.sk-estimator:hover label.sk-toggleable__label-arrow:before {color: black;}#sk-container-id-1 div.sk-toggleable__content {max-height: 0;max-width: 0;overflow: hidden;text-align: left;background-color: #f0f8ff;}#sk-container-id-1 div.sk-toggleable__content pre {margin: 0.2em;color: black;border-radius: 0.25em;background-color: #f0f8ff;}#sk-container-id-1 input.sk-toggleable__control:checked~div.sk-toggleable__content {max-height: 200px;max-width: 100%;overflow: auto;}#sk-container-id-1 input.sk-toggleable__control:checked~label.sk-toggleable__label-arrow:before {content: \"▾\";}#sk-container-id-1 div.sk-estimator input.sk-toggleable__control:checked~label.sk-toggleable__label {background-color: #d4ebff;}#sk-container-id-1 div.sk-label input.sk-toggleable__control:checked~label.sk-toggleable__label {background-color: #d4ebff;}#sk-container-id-1 input.sk-hidden--visually {border: 0;clip: rect(1px 1px 1px 1px);clip: rect(1px, 1px, 1px, 1px);height: 1px;margin: -1px;overflow: hidden;padding: 0;position: absolute;width: 1px;}#sk-container-id-1 div.sk-estimator {font-family: monospace;background-color: #f0f8ff;border: 1px dotted black;border-radius: 0.25em;box-sizing: border-box;margin-bottom: 0.5em;}#sk-container-id-1 div.sk-estimator:hover {background-color: #d4ebff;}#sk-container-id-1 div.sk-parallel-item::after {content: \"\";width: 100%;border-bottom: 1px solid gray;flex-grow: 1;}#sk-container-id-1 div.sk-label:hover label.sk-toggleable__label {background-color: #d4ebff;}#sk-container-id-1 div.sk-serial::before {content: \"\";position: absolute;border-left: 1px solid gray;box-sizing: border-box;top: 0;bottom: 0;left: 50%;z-index: 0;}#sk-container-id-1 div.sk-serial {display: flex;flex-direction: column;align-items: center;background-color: white;padding-right: 0.2em;padding-left: 0.2em;position: relative;}#sk-container-id-1 div.sk-item {position: relative;z-index: 1;}#sk-container-id-1 div.sk-parallel {display: flex;align-items: stretch;justify-content: center;background-color: white;position: relative;}#sk-container-id-1 div.sk-item::before, #sk-container-id-1 div.sk-parallel-item::before {content: \"\";position: absolute;border-left: 1px solid gray;box-sizing: border-box;top: 0;bottom: 0;left: 50%;z-index: -1;}#sk-container-id-1 div.sk-parallel-item {display: flex;flex-direction: column;z-index: 1;position: relative;background-color: white;}#sk-container-id-1 div.sk-parallel-item:first-child::after {align-self: flex-end;width: 50%;}#sk-container-id-1 div.sk-parallel-item:last-child::after {align-self: flex-start;width: 50%;}#sk-container-id-1 div.sk-parallel-item:only-child::after {width: 0;}#sk-container-id-1 div.sk-dashed-wrapped {border: 1px dashed gray;margin: 0 0.4em 0.5em 0.4em;box-sizing: border-box;padding-bottom: 0.4em;background-color: white;}#sk-container-id-1 div.sk-label label {font-family: monospace;font-weight: bold;display: inline-block;line-height: 1.2em;}#sk-container-id-1 div.sk-label-container {text-align: center;}#sk-container-id-1 div.sk-container {/* jupyter's `normalize.less` sets `[hidden] { display: none; }` but bootstrap.min.css set `[hidden] { display: none !important; }` so we also need the `!important` here to be able to override the default hidden behavior on the sphinx rendered scikit-learn.org. See: https://github.com/scikit-learn/scikit-learn/issues/21755 */display: inline-block !important;position: relative;}#sk-container-id-1 div.sk-text-repr-fallback {display: none;}</style><div id=\"sk-container-id-1\" class=\"sk-top-container\"><div class=\"sk-text-repr-fallback\"><pre>StandardScaler()</pre><b>In a Jupyter environment, please rerun this cell to show the HTML representation or trust the notebook. <br />On GitHub, the HTML representation is unable to render, please try loading this page with nbviewer.org.</b></div><div class=\"sk-container\" hidden><div class=\"sk-item\"><div class=\"sk-estimator sk-toggleable\"><input class=\"sk-toggleable__control sk-hidden--visually\" id=\"sk-estimator-id-1\" type=\"checkbox\" checked><label for=\"sk-estimator-id-1\" class=\"sk-toggleable__label sk-toggleable__label-arrow\">StandardScaler</label><div class=\"sk-toggleable__content\"><pre>StandardScaler()</pre></div></div></div></div></div>"
      ],
      "text/plain": [
       "StandardScaler()"
      ]
     },
     "execution_count": 12,
     "metadata": {},
     "output_type": "execute_result"
    }
   ],
   "source": [
    "scaler.fit(np.array(movie_df[\"synopsis_vector_numpy\"].tolist()))"
   ]
  },
  {
   "cell_type": "code",
   "execution_count": 56,
   "metadata": {},
   "outputs": [],
   "source": [
    "# scaler.mean_, scaler.var_"
   ]
  },
  {
   "cell_type": "code",
   "execution_count": 13,
   "metadata": {},
   "outputs": [
    {
     "data": {
      "text/plain": [
       "array([[ 4.1885357e-02, -7.6648023e-04, -2.2218759e-01, ...,\n",
       "         8.3715968e-02,  1.1782483e-01,  5.2837949e-02],\n",
       "       [ 8.7208994e-02,  1.2752692e-01, -9.3090236e-01, ...,\n",
       "        -2.8686492e-02,  3.0170104e-01, -3.9153248e-02],\n",
       "       [-1.1245131e+00,  7.9856372e-01, -9.0466577e-01, ...,\n",
       "         1.0059589e+00,  5.5830753e-01,  9.1032571e-01],\n",
       "       ...,\n",
       "       [ 4.4215462e-01,  5.9164488e-01, -2.8736815e-01, ...,\n",
       "        -4.5405190e-02, -2.8383827e-01, -2.8284809e-01],\n",
       "       [-2.2435844e-01, -6.9612399e-02, -5.2345037e-01, ...,\n",
       "         1.0352483e-01,  2.8706387e-01,  2.1902342e-01],\n",
       "       [-1.1336058e+00,  8.0458790e-01, -1.4448930e+00, ...,\n",
       "         1.0836964e+00,  1.2135342e+00,  1.1760443e+00]], dtype=float32)"
      ]
     },
     "execution_count": 13,
     "metadata": {},
     "output_type": "execute_result"
    }
   ],
   "source": [
    "scaler.transform(np.array(movie_df[\"synopsis_vector_numpy\"].tolist()))"
   ]
  },
  {
   "cell_type": "code",
   "execution_count": 14,
   "metadata": {},
   "outputs": [],
   "source": [
    "movie_df[\"synopsis_vector_numpy_scale\"] = scaler.transform(np.array(movie_df[\"synopsis_vector_numpy\"].tolist())).tolist()"
   ]
  },
  {
   "cell_type": "code",
   "execution_count": 36,
   "metadata": {},
   "outputs": [],
   "source": [
    "# movie_df[\"synopsis_vector_numpy_scale\"]\n",
    "# movie_df"
   ]
  },
  {
   "cell_type": "code",
   "execution_count": 15,
   "metadata": {},
   "outputs": [
    {
     "data": {
      "text/plain": [
       "array([[0.00000000e+00, 4.31840576e+00, 9.07655060e+00, ...,\n",
       "        4.82815017e+00, 2.75809504e+00, 9.81305388e+00],\n",
       "       [4.31840576e+00, 1.19209290e-07, 9.50862019e+00, ...,\n",
       "        4.59027313e+00, 3.32677947e+00, 1.04245588e+01],\n",
       "       [9.07655060e+00, 9.50862019e+00, 2.38418579e-07, ...,\n",
       "        1.06145729e+01, 8.09350928e+00, 5.09438171e+00],\n",
       "       ...,\n",
       "       [4.82815017e+00, 4.59027313e+00, 1.06145729e+01, ...,\n",
       "        1.46000966e-07, 4.37724189e+00, 1.20509696e+01],\n",
       "       [2.75809504e+00, 3.32677947e+00, 8.09350928e+00, ...,\n",
       "        4.37724189e+00, 4.21468485e-08, 8.91006577e+00],\n",
       "       [9.81305388e+00, 1.04245588e+01, 5.09438171e+00, ...,\n",
       "        1.20509696e+01, 8.91006577e+00, 1.68587394e-07]])"
      ]
     },
     "execution_count": 15,
     "metadata": {},
     "output_type": "execute_result"
    }
   ],
   "source": [
    "\n",
    "# synopsis_vector_numpy_scale 컬럼의 유클리드 거리를 계산\n",
    "sim_score = euclidean_distances(movie_df[\"synopsis_vector_numpy_scale\"].tolist(), movie_df[\"synopsis_vector_numpy_scale\"].tolist())\n",
    "\n",
    "sim_score"
   ]
  },
  {
   "cell_type": "code",
   "execution_count": 16,
   "metadata": {},
   "outputs": [
    {
     "data": {
      "text/html": [
       "<div>\n",
       "<style scoped>\n",
       "    .dataframe tbody tr th:only-of-type {\n",
       "        vertical-align: middle;\n",
       "    }\n",
       "\n",
       "    .dataframe tbody tr th {\n",
       "        vertical-align: top;\n",
       "    }\n",
       "\n",
       "    .dataframe thead th {\n",
       "        text-align: right;\n",
       "    }\n",
       "</style>\n",
       "<table border=\"1\" class=\"dataframe\">\n",
       "  <thead>\n",
       "    <tr style=\"text-align: right;\">\n",
       "      <th></th>\n",
       "      <th>0</th>\n",
       "      <th>1</th>\n",
       "      <th>2</th>\n",
       "      <th>3</th>\n",
       "      <th>4</th>\n",
       "      <th>5</th>\n",
       "      <th>6</th>\n",
       "      <th>7</th>\n",
       "      <th>8</th>\n",
       "      <th>9</th>\n",
       "      <th>...</th>\n",
       "      <th>660</th>\n",
       "      <th>661</th>\n",
       "      <th>662</th>\n",
       "      <th>663</th>\n",
       "      <th>664</th>\n",
       "      <th>665</th>\n",
       "      <th>666</th>\n",
       "      <th>667</th>\n",
       "      <th>668</th>\n",
       "      <th>669</th>\n",
       "    </tr>\n",
       "  </thead>\n",
       "  <tbody>\n",
       "    <tr>\n",
       "      <th>0</th>\n",
       "      <td>0.000000</td>\n",
       "      <td>4.318406e+00</td>\n",
       "      <td>9.076551e+00</td>\n",
       "      <td>1.248285e+01</td>\n",
       "      <td>1.110364e+01</td>\n",
       "      <td>11.628727</td>\n",
       "      <td>10.102911</td>\n",
       "      <td>4.676880</td>\n",
       "      <td>7.436662</td>\n",
       "      <td>12.686713</td>\n",
       "      <td>...</td>\n",
       "      <td>5.665217</td>\n",
       "      <td>7.390873</td>\n",
       "      <td>4.594519</td>\n",
       "      <td>4.325970</td>\n",
       "      <td>12.812320</td>\n",
       "      <td>20.351880</td>\n",
       "      <td>1.044449e+01</td>\n",
       "      <td>4.828150e+00</td>\n",
       "      <td>2.758095e+00</td>\n",
       "      <td>9.813054e+00</td>\n",
       "    </tr>\n",
       "    <tr>\n",
       "      <th>1</th>\n",
       "      <td>4.318406</td>\n",
       "      <td>1.192093e-07</td>\n",
       "      <td>9.508620e+00</td>\n",
       "      <td>1.265800e+01</td>\n",
       "      <td>1.059314e+01</td>\n",
       "      <td>12.161544</td>\n",
       "      <td>9.726583</td>\n",
       "      <td>4.282771</td>\n",
       "      <td>7.077140</td>\n",
       "      <td>13.120261</td>\n",
       "      <td>...</td>\n",
       "      <td>5.312451</td>\n",
       "      <td>8.056916</td>\n",
       "      <td>4.379233</td>\n",
       "      <td>4.009416</td>\n",
       "      <td>13.276836</td>\n",
       "      <td>20.093220</td>\n",
       "      <td>1.038310e+01</td>\n",
       "      <td>4.590273e+00</td>\n",
       "      <td>3.326779e+00</td>\n",
       "      <td>1.042456e+01</td>\n",
       "    </tr>\n",
       "    <tr>\n",
       "      <th>2</th>\n",
       "      <td>9.076551</td>\n",
       "      <td>9.508620e+00</td>\n",
       "      <td>2.384186e-07</td>\n",
       "      <td>6.993318e+00</td>\n",
       "      <td>1.845051e+01</td>\n",
       "      <td>4.958920</td>\n",
       "      <td>17.310476</td>\n",
       "      <td>11.214621</td>\n",
       "      <td>15.058363</td>\n",
       "      <td>5.732242</td>\n",
       "      <td>...</td>\n",
       "      <td>13.500100</td>\n",
       "      <td>4.418942</td>\n",
       "      <td>7.986378</td>\n",
       "      <td>9.369552</td>\n",
       "      <td>6.280662</td>\n",
       "      <td>27.791841</td>\n",
       "      <td>1.709808e+01</td>\n",
       "      <td>1.061457e+01</td>\n",
       "      <td>8.093509e+00</td>\n",
       "      <td>5.094382e+00</td>\n",
       "    </tr>\n",
       "    <tr>\n",
       "      <th>3</th>\n",
       "      <td>12.482846</td>\n",
       "      <td>1.265800e+01</td>\n",
       "      <td>6.993318e+00</td>\n",
       "      <td>4.129531e-07</td>\n",
       "      <td>2.193545e+01</td>\n",
       "      <td>5.762431</td>\n",
       "      <td>21.302442</td>\n",
       "      <td>15.175383</td>\n",
       "      <td>18.468156</td>\n",
       "      <td>5.181310</td>\n",
       "      <td>...</td>\n",
       "      <td>16.544991</td>\n",
       "      <td>6.959114</td>\n",
       "      <td>11.434824</td>\n",
       "      <td>12.601225</td>\n",
       "      <td>5.956848</td>\n",
       "      <td>31.532493</td>\n",
       "      <td>2.076945e+01</td>\n",
       "      <td>1.462125e+01</td>\n",
       "      <td>1.142822e+01</td>\n",
       "      <td>4.137918e+00</td>\n",
       "    </tr>\n",
       "    <tr>\n",
       "      <th>4</th>\n",
       "      <td>11.103639</td>\n",
       "      <td>1.059314e+01</td>\n",
       "      <td>1.845051e+01</td>\n",
       "      <td>2.193545e+01</td>\n",
       "      <td>2.384186e-07</td>\n",
       "      <td>21.693195</td>\n",
       "      <td>3.694471</td>\n",
       "      <td>8.437042</td>\n",
       "      <td>7.104960</td>\n",
       "      <td>22.826693</td>\n",
       "      <td>...</td>\n",
       "      <td>7.063689</td>\n",
       "      <td>16.765985</td>\n",
       "      <td>12.533565</td>\n",
       "      <td>11.359365</td>\n",
       "      <td>22.879337</td>\n",
       "      <td>10.666316</td>\n",
       "      <td>5.847136e+00</td>\n",
       "      <td>1.007164e+01</td>\n",
       "      <td>1.174982e+01</td>\n",
       "      <td>1.974208e+01</td>\n",
       "    </tr>\n",
       "    <tr>\n",
       "      <th>...</th>\n",
       "      <td>...</td>\n",
       "      <td>...</td>\n",
       "      <td>...</td>\n",
       "      <td>...</td>\n",
       "      <td>...</td>\n",
       "      <td>...</td>\n",
       "      <td>...</td>\n",
       "      <td>...</td>\n",
       "      <td>...</td>\n",
       "      <td>...</td>\n",
       "      <td>...</td>\n",
       "      <td>...</td>\n",
       "      <td>...</td>\n",
       "      <td>...</td>\n",
       "      <td>...</td>\n",
       "      <td>...</td>\n",
       "      <td>...</td>\n",
       "      <td>...</td>\n",
       "      <td>...</td>\n",
       "      <td>...</td>\n",
       "      <td>...</td>\n",
       "    </tr>\n",
       "    <tr>\n",
       "      <th>665</th>\n",
       "      <td>20.351880</td>\n",
       "      <td>2.009322e+01</td>\n",
       "      <td>2.779184e+01</td>\n",
       "      <td>3.153249e+01</td>\n",
       "      <td>1.066632e+01</td>\n",
       "      <td>31.282903</td>\n",
       "      <td>11.110087</td>\n",
       "      <td>17.900927</td>\n",
       "      <td>15.459547</td>\n",
       "      <td>32.368644</td>\n",
       "      <td>...</td>\n",
       "      <td>16.170556</td>\n",
       "      <td>26.241659</td>\n",
       "      <td>22.095975</td>\n",
       "      <td>20.307125</td>\n",
       "      <td>32.345130</td>\n",
       "      <td>0.000000</td>\n",
       "      <td>1.149617e+01</td>\n",
       "      <td>1.876209e+01</td>\n",
       "      <td>2.121472e+01</td>\n",
       "      <td>2.931815e+01</td>\n",
       "    </tr>\n",
       "    <tr>\n",
       "      <th>666</th>\n",
       "      <td>10.444491</td>\n",
       "      <td>1.038310e+01</td>\n",
       "      <td>1.709808e+01</td>\n",
       "      <td>2.076945e+01</td>\n",
       "      <td>5.847136e+00</td>\n",
       "      <td>20.595683</td>\n",
       "      <td>4.349515</td>\n",
       "      <td>8.559879</td>\n",
       "      <td>8.064252</td>\n",
       "      <td>21.660246</td>\n",
       "      <td>...</td>\n",
       "      <td>7.280632</td>\n",
       "      <td>15.574524</td>\n",
       "      <td>12.068821</td>\n",
       "      <td>10.267947</td>\n",
       "      <td>21.692819</td>\n",
       "      <td>11.496172</td>\n",
       "      <td>2.384186e-07</td>\n",
       "      <td>9.701709e+00</td>\n",
       "      <td>1.126638e+01</td>\n",
       "      <td>1.866778e+01</td>\n",
       "    </tr>\n",
       "    <tr>\n",
       "      <th>667</th>\n",
       "      <td>4.828150</td>\n",
       "      <td>4.590273e+00</td>\n",
       "      <td>1.061457e+01</td>\n",
       "      <td>1.462125e+01</td>\n",
       "      <td>1.007164e+01</td>\n",
       "      <td>13.507204</td>\n",
       "      <td>8.852437</td>\n",
       "      <td>4.414534</td>\n",
       "      <td>6.374316</td>\n",
       "      <td>14.517661</td>\n",
       "      <td>...</td>\n",
       "      <td>5.638528</td>\n",
       "      <td>9.589182</td>\n",
       "      <td>6.425279</td>\n",
       "      <td>5.271960</td>\n",
       "      <td>14.555270</td>\n",
       "      <td>18.762088</td>\n",
       "      <td>9.701709e+00</td>\n",
       "      <td>1.460010e-07</td>\n",
       "      <td>4.377242e+00</td>\n",
       "      <td>1.205097e+01</td>\n",
       "    </tr>\n",
       "    <tr>\n",
       "      <th>668</th>\n",
       "      <td>2.758095</td>\n",
       "      <td>3.326779e+00</td>\n",
       "      <td>8.093509e+00</td>\n",
       "      <td>1.142822e+01</td>\n",
       "      <td>1.174982e+01</td>\n",
       "      <td>10.698146</td>\n",
       "      <td>10.814587</td>\n",
       "      <td>5.038258</td>\n",
       "      <td>8.139135</td>\n",
       "      <td>11.687715</td>\n",
       "      <td>...</td>\n",
       "      <td>6.264362</td>\n",
       "      <td>6.675044</td>\n",
       "      <td>4.157410</td>\n",
       "      <td>4.096098</td>\n",
       "      <td>11.836407</td>\n",
       "      <td>21.214720</td>\n",
       "      <td>1.126638e+01</td>\n",
       "      <td>4.377242e+00</td>\n",
       "      <td>4.214685e-08</td>\n",
       "      <td>8.910066e+00</td>\n",
       "    </tr>\n",
       "    <tr>\n",
       "      <th>669</th>\n",
       "      <td>9.813054</td>\n",
       "      <td>1.042456e+01</td>\n",
       "      <td>5.094382e+00</td>\n",
       "      <td>4.137918e+00</td>\n",
       "      <td>1.974208e+01</td>\n",
       "      <td>3.970423</td>\n",
       "      <td>18.897070</td>\n",
       "      <td>12.610066</td>\n",
       "      <td>15.927836</td>\n",
       "      <td>4.660300</td>\n",
       "      <td>...</td>\n",
       "      <td>14.249197</td>\n",
       "      <td>4.383742</td>\n",
       "      <td>9.187878</td>\n",
       "      <td>10.286975</td>\n",
       "      <td>5.470871</td>\n",
       "      <td>29.318153</td>\n",
       "      <td>1.866778e+01</td>\n",
       "      <td>1.205097e+01</td>\n",
       "      <td>8.910066e+00</td>\n",
       "      <td>1.685874e-07</td>\n",
       "    </tr>\n",
       "  </tbody>\n",
       "</table>\n",
       "<p>670 rows × 670 columns</p>\n",
       "</div>"
      ],
      "text/plain": [
       "           0             1             2             3             4    \\\n",
       "0     0.000000  4.318406e+00  9.076551e+00  1.248285e+01  1.110364e+01   \n",
       "1     4.318406  1.192093e-07  9.508620e+00  1.265800e+01  1.059314e+01   \n",
       "2     9.076551  9.508620e+00  2.384186e-07  6.993318e+00  1.845051e+01   \n",
       "3    12.482846  1.265800e+01  6.993318e+00  4.129531e-07  2.193545e+01   \n",
       "4    11.103639  1.059314e+01  1.845051e+01  2.193545e+01  2.384186e-07   \n",
       "..         ...           ...           ...           ...           ...   \n",
       "665  20.351880  2.009322e+01  2.779184e+01  3.153249e+01  1.066632e+01   \n",
       "666  10.444491  1.038310e+01  1.709808e+01  2.076945e+01  5.847136e+00   \n",
       "667   4.828150  4.590273e+00  1.061457e+01  1.462125e+01  1.007164e+01   \n",
       "668   2.758095  3.326779e+00  8.093509e+00  1.142822e+01  1.174982e+01   \n",
       "669   9.813054  1.042456e+01  5.094382e+00  4.137918e+00  1.974208e+01   \n",
       "\n",
       "           5          6          7          8          9    ...        660  \\\n",
       "0    11.628727  10.102911   4.676880   7.436662  12.686713  ...   5.665217   \n",
       "1    12.161544   9.726583   4.282771   7.077140  13.120261  ...   5.312451   \n",
       "2     4.958920  17.310476  11.214621  15.058363   5.732242  ...  13.500100   \n",
       "3     5.762431  21.302442  15.175383  18.468156   5.181310  ...  16.544991   \n",
       "4    21.693195   3.694471   8.437042   7.104960  22.826693  ...   7.063689   \n",
       "..         ...        ...        ...        ...        ...  ...        ...   \n",
       "665  31.282903  11.110087  17.900927  15.459547  32.368644  ...  16.170556   \n",
       "666  20.595683   4.349515   8.559879   8.064252  21.660246  ...   7.280632   \n",
       "667  13.507204   8.852437   4.414534   6.374316  14.517661  ...   5.638528   \n",
       "668  10.698146  10.814587   5.038258   8.139135  11.687715  ...   6.264362   \n",
       "669   3.970423  18.897070  12.610066  15.927836   4.660300  ...  14.249197   \n",
       "\n",
       "           661        662        663        664        665           666  \\\n",
       "0     7.390873   4.594519   4.325970  12.812320  20.351880  1.044449e+01   \n",
       "1     8.056916   4.379233   4.009416  13.276836  20.093220  1.038310e+01   \n",
       "2     4.418942   7.986378   9.369552   6.280662  27.791841  1.709808e+01   \n",
       "3     6.959114  11.434824  12.601225   5.956848  31.532493  2.076945e+01   \n",
       "4    16.765985  12.533565  11.359365  22.879337  10.666316  5.847136e+00   \n",
       "..         ...        ...        ...        ...        ...           ...   \n",
       "665  26.241659  22.095975  20.307125  32.345130   0.000000  1.149617e+01   \n",
       "666  15.574524  12.068821  10.267947  21.692819  11.496172  2.384186e-07   \n",
       "667   9.589182   6.425279   5.271960  14.555270  18.762088  9.701709e+00   \n",
       "668   6.675044   4.157410   4.096098  11.836407  21.214720  1.126638e+01   \n",
       "669   4.383742   9.187878  10.286975   5.470871  29.318153  1.866778e+01   \n",
       "\n",
       "              667           668           669  \n",
       "0    4.828150e+00  2.758095e+00  9.813054e+00  \n",
       "1    4.590273e+00  3.326779e+00  1.042456e+01  \n",
       "2    1.061457e+01  8.093509e+00  5.094382e+00  \n",
       "3    1.462125e+01  1.142822e+01  4.137918e+00  \n",
       "4    1.007164e+01  1.174982e+01  1.974208e+01  \n",
       "..            ...           ...           ...  \n",
       "665  1.876209e+01  2.121472e+01  2.931815e+01  \n",
       "666  9.701709e+00  1.126638e+01  1.866778e+01  \n",
       "667  1.460010e-07  4.377242e+00  1.205097e+01  \n",
       "668  4.377242e+00  4.214685e-08  8.910066e+00  \n",
       "669  1.205097e+01  8.910066e+00  1.685874e-07  \n",
       "\n",
       "[670 rows x 670 columns]"
      ]
     },
     "execution_count": 16,
     "metadata": {},
     "output_type": "execute_result"
    }
   ],
   "source": [
    "# sim_score[0]\n",
    "\n",
    "sim_df = pd.DataFrame(data=sim_score)\n",
    "sim_df"
   ]
  },
  {
   "cell_type": "code",
   "execution_count": 17,
   "metadata": {},
   "outputs": [],
   "source": [
    "sim_df.index = movie_df[\"title\"]\n",
    "sim_df.columns = movie_df[\"title\"]\n",
    "\n",
    "# sim_df"
   ]
  },
  {
   "cell_type": "code",
   "execution_count": 25,
   "metadata": {},
   "outputs": [
    {
     "data": {
      "text/plain": [
       "title\n",
       "악당들                     2.758095\n",
       "보이스                     2.967072\n",
       "유령                      3.116467\n",
       "신은 죽지 않았다 3: 어둠 속의 빛    3.117305\n",
       "극한직업                    3.152396\n",
       "Name: 범죄도시3, dtype: float64"
      ]
     },
     "execution_count": 25,
     "metadata": {},
     "output_type": "execute_result"
    }
   ],
   "source": [
    "# 영화 범죄도시3 와 거리가 가까운 순으로 TOP 5 조회\n",
    "## 자기 자신 제외\n",
    "\n",
    "sim_df[\"범죄도시3\"].sort_values()[1:6]"
   ]
  },
  {
   "cell_type": "code",
   "execution_count": 19,
   "metadata": {},
   "outputs": [
    {
     "data": {
      "text/html": [
       "<div>\n",
       "<style scoped>\n",
       "    .dataframe tbody tr th:only-of-type {\n",
       "        vertical-align: middle;\n",
       "    }\n",
       "\n",
       "    .dataframe tbody tr th {\n",
       "        vertical-align: top;\n",
       "    }\n",
       "\n",
       "    .dataframe thead th {\n",
       "        text-align: right;\n",
       "    }\n",
       "</style>\n",
       "<table border=\"1\" class=\"dataframe\">\n",
       "  <thead>\n",
       "    <tr style=\"text-align: right;\">\n",
       "      <th></th>\n",
       "      <th>title</th>\n",
       "      <th>범죄도시3</th>\n",
       "    </tr>\n",
       "  </thead>\n",
       "  <tbody>\n",
       "    <tr>\n",
       "      <th>0</th>\n",
       "      <td>악당들</td>\n",
       "      <td>2.758095</td>\n",
       "    </tr>\n",
       "    <tr>\n",
       "      <th>1</th>\n",
       "      <td>보이스</td>\n",
       "      <td>2.967072</td>\n",
       "    </tr>\n",
       "    <tr>\n",
       "      <th>2</th>\n",
       "      <td>유령</td>\n",
       "      <td>3.116467</td>\n",
       "    </tr>\n",
       "    <tr>\n",
       "      <th>3</th>\n",
       "      <td>신은 죽지 않았다 3: 어둠 속의 빛</td>\n",
       "      <td>3.117305</td>\n",
       "    </tr>\n",
       "    <tr>\n",
       "      <th>4</th>\n",
       "      <td>극한직업</td>\n",
       "      <td>3.152396</td>\n",
       "    </tr>\n",
       "  </tbody>\n",
       "</table>\n",
       "</div>"
      ],
      "text/plain": [
       "                  title     범죄도시3\n",
       "0                   악당들  2.758095\n",
       "1                   보이스  2.967072\n",
       "2                    유령  3.116467\n",
       "3  신은 죽지 않았다 3: 어둠 속의 빛  3.117305\n",
       "4                  극한직업  3.152396"
      ]
     },
     "execution_count": 19,
     "metadata": {},
     "output_type": "execute_result"
    }
   ],
   "source": [
    "pd.DataFrame(sim_df[\"범죄도시3\"].sort_values()[1:6]).reset_index()"
   ]
  },
  {
   "cell_type": "code",
   "execution_count": 20,
   "metadata": {},
   "outputs": [
    {
     "data": {
      "text/plain": [
       "[['악당들', 2.758095040097118],\n",
       " ['보이스', 2.9670718645422993],\n",
       " ['유령', 3.116466566237993],\n",
       " ['신은 죽지 않았다 3: 어둠 속의 빛', 3.1173045629877465],\n",
       " ['극한직업', 3.1523961982198663]]"
      ]
     },
     "execution_count": 20,
     "metadata": {},
     "output_type": "execute_result"
    }
   ],
   "source": [
    "sim_df[\"범죄도시3\"].sort_values()[1:6].reset_index().values.tolist()"
   ]
  },
  {
   "cell_type": "code",
   "execution_count": 21,
   "metadata": {},
   "outputs": [
    {
     "data": {
      "text/plain": [
       "'[[\"악당들\", 2.758095040097118], [\"보이스\", 2.9670718645422993], [\"유령\", 3.116466566237993], [\"신은 죽지 않았다 3: 어둠 속의 빛\", 3.1173045629877465], [\"극한직업\", 3.1523961982198663]]'"
      ]
     },
     "execution_count": 21,
     "metadata": {},
     "output_type": "execute_result"
    }
   ],
   "source": [
    "# 위의 영화 범죄도시3 와 거리가 가까운 순으로 자기 자신을 제외한 TOP 5 값을\n",
    "## DataFrame 으로 바꾸고 인덱스를 지우고 해당 영화 제목을 넣은 값에서\n",
    "### numpy 배열 -> 리스트로 바꾼 후 다시 DataFrame에 담아 json 문자열로 변환한 결과\n",
    "\n",
    "result = pd.DataFrame(sim_df[\"범죄도시3\"].sort_values()[1:6]).reset_index().values.tolist()\n",
    "\n",
    "json.dumps(result, ensure_ascii=False)"
   ]
  },
  {
   "cell_type": "code",
   "execution_count": null,
   "metadata": {},
   "outputs": [],
   "source": [
    "db.close()"
   ]
  },
  {
   "cell_type": "code",
   "execution_count": null,
   "metadata": {},
   "outputs": [],
   "source": []
  }
 ],
 "metadata": {
  "kernelspec": {
   "display_name": "venv",
   "language": "python",
   "name": "python3"
  },
  "language_info": {
   "codemirror_mode": {
    "name": "ipython",
    "version": 3
   },
   "file_extension": ".py",
   "mimetype": "text/x-python",
   "name": "python",
   "nbconvert_exporter": "python",
   "pygments_lexer": "ipython3",
   "version": "3.10.11"
  },
  "orig_nbformat": 4
 },
 "nbformat": 4,
 "nbformat_minor": 2
}
