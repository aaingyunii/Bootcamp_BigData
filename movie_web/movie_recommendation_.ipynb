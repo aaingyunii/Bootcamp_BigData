{
 "cells": [
  {
   "cell_type": "code",
   "execution_count": 3,
   "metadata": {},
   "outputs": [],
   "source": [
    "# !pip install scikit-learn"
   ]
  },
  {
   "cell_type": "code",
   "execution_count": 45,
   "metadata": {},
   "outputs": [],
   "source": [
    "import os\n",
    "import pymysql\n",
    "import time\n",
    "import pandas as pd\n",
    "import numpy as np\n",
    "from tqdm import tqdm\n",
    "from sklearn.metrics.pairwise import euclidean_distances\n",
    "from sklearn.preprocessing import StandardScaler\n",
    "import json\n"
   ]
  },
  {
   "cell_type": "code",
   "execution_count": 46,
   "metadata": {},
   "outputs": [],
   "source": [
    "db = pymysql.connect(\n",
    "    # host = \"aws db 엔드포인트\",\n",
    "    host=\"\",\n",
    "    port=3306,\n",
    "    user='admin',\n",
    "    # passwd='관리자 계정 비밀번호',\n",
    "    passwd=\"\",\n",
    "    db='movie_db',\n",
    "    charset='utf8'\n",
    ")"
   ]
  },
  {
   "cell_type": "code",
   "execution_count": 49,
   "metadata": {},
   "outputs": [
    {
     "name": "stderr",
     "output_type": "stream",
     "text": [
      "C:\\Users\\Playdata\\AppData\\Local\\Temp\\ipykernel_3728\\3393629625.py:3: UserWarning: pandas only supports SQLAlchemy connectable (engine/connection) or database string URI or sqlite3 DBAPI2 connection. Other DBAPI2 objects are not tested. Please consider using SQLAlchemy.\n",
      "  movie_df = pd.read_sql(sql, db)\n"
     ]
    }
   ],
   "source": [
    "sql = \"select * from movie\"\n",
    "\n",
    "movie_df = pd.read_sql(sql, db)\n",
    "# movie_df \n",
    "## -> synopsis_vector 컬럼에 값이 추가된 상황"
   ]
  },
  {
   "cell_type": "code",
   "execution_count": 50,
   "metadata": {},
   "outputs": [
    {
     "data": {
      "text/plain": [
       "'cv?=Y?????E=?U\\x00>?U??t?\\x0e?\\x1f?ֻ?????a\\t???%<?`??F?G??[??\\x10??<PW*>\\x1c?=>??s???{?\\x02?^=?\\x1ca???4=?[\\x0e>f:?=??B?36x<u??<??~=\\x00?N>??X?Ckc???y>Mm??].5>L\\x16??zz?=?-T>@H?>??x??$/??rؼ?\\x0b?9b??=??f?A\\x0fB<?\\x1f~>\\x1ce]??p\\x0e?L;h>\\x0f??=???=?I?=?\\x08?=S?\\x04>y?ӽwO?=??:=?\\x08\\x02>??\\x18??u??\\x1e?f??6\\x19???`??r\\x19?\\x1dc?<?2??>?3???轙?a>??;>\\x17j?>#\\t\\x1f=?b\\t?\\x06ힽ`\\x16?=??輦??=??2=R\\x16??\\x17t_?Y\\x1b|?'"
      ]
     },
     "execution_count": 50,
     "metadata": {},
     "output_type": "execute_result"
    }
   ],
   "source": [
    "# 범죄도시3 wordvector를 문자열로 변환한 synopsis_vector 컬럼값을 string_array에 할당\n",
    "string_array = movie_df.loc[0,\"synopsis_vector\"]\n",
    "string_array"
   ]
  },
  {
   "cell_type": "code",
   "execution_count": 51,
   "metadata": {},
   "outputs": [
    {
     "name": "stderr",
     "output_type": "stream",
     "text": [
      "C:\\Users\\Playdata\\AppData\\Local\\Temp\\ipykernel_3728\\714448942.py:2: DeprecationWarning: The binary mode of fromstring is deprecated, as it behaves surprisingly on unicode inputs. Use frombuffer instead\n",
      "  numpy_array = np.fromstring(string_array, dtype=\"float32\")\n"
     ]
    }
   ],
   "source": [
    "# 다시 numpy 배열로 반환\n",
    "numpy_array = np.fromstring(string_array, dtype=\"float32\")\n",
    "# numpy_array"
   ]
  },
  {
   "cell_type": "code",
   "execution_count": 20,
   "metadata": {},
   "outputs": [],
   "source": [
    "# 모든 행의 synopsis_vector 컬럼 값 출력\n",
    "# movie_df.loc[:,\"synopsis_vector\"]\n"
   ]
  },
  {
   "cell_type": "code",
   "execution_count": 52,
   "metadata": {},
   "outputs": [
    {
     "name": "stderr",
     "output_type": "stream",
     "text": [
      "C:\\Users\\Playdata\\AppData\\Local\\Temp\\ipykernel_3728\\1359174774.py:2: DeprecationWarning: The binary mode of fromstring is deprecated, as it behaves surprisingly on unicode inputs. Use frombuffer instead\n",
      "  movie_df.loc[:,\"synopsis_vector_numpy\"] = movie_df.loc[:,\"synopsis_vector\"].apply(lambda x:np.fromstring(x,dtype=\"float32\"))\n"
     ]
    }
   ],
   "source": [
    "\n",
    "# 모든 행의 synopsis_vector 컬럼 값을 numpy 배열로 반환\n",
    "movie_df.loc[:,\"synopsis_vector_numpy\"] = movie_df.loc[:,\"synopsis_vector\"].apply(lambda x:np.fromstring(x,dtype=\"float32\"))"
   ]
  },
  {
   "cell_type": "code",
   "execution_count": 25,
   "metadata": {},
   "outputs": [],
   "source": [
    "# movie_df.loc[:,\"synopsis_vector_numpy\"]\n",
    "# movie_df"
   ]
  },
  {
   "cell_type": "code",
   "execution_count": 53,
   "metadata": {},
   "outputs": [
    {
     "data": {
      "text/plain": [
       "array([[0.04674376, 0.74706036, 0.04815602, ..., 0.74643433, 0.87286514,\n",
       "        0.9847923 ],\n",
       "       [0.0466605 , 0.74850225, 0.04522612, ..., 0.74649423, 0.8564338 ,\n",
       "        0.9814338 ],\n",
       "       [0.04672932, 0.74698406, 0.04254937, ..., 0.9111207 , 0.8524217 ,\n",
       "        0.8876838 ],\n",
       "       ...,\n",
       "       [0.09220782, 0.74652755, 0.04989849, ..., 0.74705774, 0.9501855 ,\n",
       "        0.7470588 ],\n",
       "       [0.04666651, 0.747061  , 0.04717946, ..., 0.74621993, 0.86034006,\n",
       "        0.96951663],\n",
       "       [0.04674737, 0.74611276, 0.04107594, ..., 0.89252084, 0.7711208 ,\n",
       "        0.85683155]], dtype=float32)"
      ]
     },
     "execution_count": 53,
     "metadata": {},
     "output_type": "execute_result"
    }
   ],
   "source": [
    "# synopsis_vector_numpy 컬럼을 리스트로 변환\n",
    "movie_df[\"synopsis_vector_numpy\"].tolist()\n",
    "\n",
    "## 이를 2차원 배열로 변경\n",
    "np.array(movie_df[\"synopsis_vector_numpy\"].tolist())"
   ]
  },
  {
   "cell_type": "code",
   "execution_count": null,
   "metadata": {},
   "outputs": [],
   "source": []
  },
  {
   "cell_type": "markdown",
   "metadata": {},
   "source": [
    "#### 데이터의 각 `column` 의 평균을 뺀 다음 표준편차로 나눠 평균을 0으로 표준편차를 1로 변환하는 `StandardScalar` 객체 생성"
   ]
  },
  {
   "cell_type": "code",
   "execution_count": 54,
   "metadata": {},
   "outputs": [],
   "source": [
    "scaler = StandardScaler()"
   ]
  },
  {
   "cell_type": "code",
   "execution_count": 55,
   "metadata": {},
   "outputs": [
    {
     "data": {
      "text/html": [
       "<style>#sk-container-id-3 {color: black;}#sk-container-id-3 pre{padding: 0;}#sk-container-id-3 div.sk-toggleable {background-color: white;}#sk-container-id-3 label.sk-toggleable__label {cursor: pointer;display: block;width: 100%;margin-bottom: 0;padding: 0.3em;box-sizing: border-box;text-align: center;}#sk-container-id-3 label.sk-toggleable__label-arrow:before {content: \"▸\";float: left;margin-right: 0.25em;color: #696969;}#sk-container-id-3 label.sk-toggleable__label-arrow:hover:before {color: black;}#sk-container-id-3 div.sk-estimator:hover label.sk-toggleable__label-arrow:before {color: black;}#sk-container-id-3 div.sk-toggleable__content {max-height: 0;max-width: 0;overflow: hidden;text-align: left;background-color: #f0f8ff;}#sk-container-id-3 div.sk-toggleable__content pre {margin: 0.2em;color: black;border-radius: 0.25em;background-color: #f0f8ff;}#sk-container-id-3 input.sk-toggleable__control:checked~div.sk-toggleable__content {max-height: 200px;max-width: 100%;overflow: auto;}#sk-container-id-3 input.sk-toggleable__control:checked~label.sk-toggleable__label-arrow:before {content: \"▾\";}#sk-container-id-3 div.sk-estimator input.sk-toggleable__control:checked~label.sk-toggleable__label {background-color: #d4ebff;}#sk-container-id-3 div.sk-label input.sk-toggleable__control:checked~label.sk-toggleable__label {background-color: #d4ebff;}#sk-container-id-3 input.sk-hidden--visually {border: 0;clip: rect(1px 1px 1px 1px);clip: rect(1px, 1px, 1px, 1px);height: 1px;margin: -1px;overflow: hidden;padding: 0;position: absolute;width: 1px;}#sk-container-id-3 div.sk-estimator {font-family: monospace;background-color: #f0f8ff;border: 1px dotted black;border-radius: 0.25em;box-sizing: border-box;margin-bottom: 0.5em;}#sk-container-id-3 div.sk-estimator:hover {background-color: #d4ebff;}#sk-container-id-3 div.sk-parallel-item::after {content: \"\";width: 100%;border-bottom: 1px solid gray;flex-grow: 1;}#sk-container-id-3 div.sk-label:hover label.sk-toggleable__label {background-color: #d4ebff;}#sk-container-id-3 div.sk-serial::before {content: \"\";position: absolute;border-left: 1px solid gray;box-sizing: border-box;top: 0;bottom: 0;left: 50%;z-index: 0;}#sk-container-id-3 div.sk-serial {display: flex;flex-direction: column;align-items: center;background-color: white;padding-right: 0.2em;padding-left: 0.2em;position: relative;}#sk-container-id-3 div.sk-item {position: relative;z-index: 1;}#sk-container-id-3 div.sk-parallel {display: flex;align-items: stretch;justify-content: center;background-color: white;position: relative;}#sk-container-id-3 div.sk-item::before, #sk-container-id-3 div.sk-parallel-item::before {content: \"\";position: absolute;border-left: 1px solid gray;box-sizing: border-box;top: 0;bottom: 0;left: 50%;z-index: -1;}#sk-container-id-3 div.sk-parallel-item {display: flex;flex-direction: column;z-index: 1;position: relative;background-color: white;}#sk-container-id-3 div.sk-parallel-item:first-child::after {align-self: flex-end;width: 50%;}#sk-container-id-3 div.sk-parallel-item:last-child::after {align-self: flex-start;width: 50%;}#sk-container-id-3 div.sk-parallel-item:only-child::after {width: 0;}#sk-container-id-3 div.sk-dashed-wrapped {border: 1px dashed gray;margin: 0 0.4em 0.5em 0.4em;box-sizing: border-box;padding-bottom: 0.4em;background-color: white;}#sk-container-id-3 div.sk-label label {font-family: monospace;font-weight: bold;display: inline-block;line-height: 1.2em;}#sk-container-id-3 div.sk-label-container {text-align: center;}#sk-container-id-3 div.sk-container {/* jupyter's `normalize.less` sets `[hidden] { display: none; }` but bootstrap.min.css set `[hidden] { display: none !important; }` so we also need the `!important` here to be able to override the default hidden behavior on the sphinx rendered scikit-learn.org. See: https://github.com/scikit-learn/scikit-learn/issues/21755 */display: inline-block !important;position: relative;}#sk-container-id-3 div.sk-text-repr-fallback {display: none;}</style><div id=\"sk-container-id-3\" class=\"sk-top-container\"><div class=\"sk-text-repr-fallback\"><pre>StandardScaler()</pre><b>In a Jupyter environment, please rerun this cell to show the HTML representation or trust the notebook. <br />On GitHub, the HTML representation is unable to render, please try loading this page with nbviewer.org.</b></div><div class=\"sk-container\" hidden><div class=\"sk-item\"><div class=\"sk-estimator sk-toggleable\"><input class=\"sk-toggleable__control sk-hidden--visually\" id=\"sk-estimator-id-3\" type=\"checkbox\" checked><label for=\"sk-estimator-id-3\" class=\"sk-toggleable__label sk-toggleable__label-arrow\">StandardScaler</label><div class=\"sk-toggleable__content\"><pre>StandardScaler()</pre></div></div></div></div></div>"
      ],
      "text/plain": [
       "StandardScaler()"
      ]
     },
     "execution_count": 55,
     "metadata": {},
     "output_type": "execute_result"
    }
   ],
   "source": [
    "scaler.fit(np.array(movie_df[\"synopsis_vector_numpy\"].tolist()))"
   ]
  },
  {
   "cell_type": "code",
   "execution_count": 56,
   "metadata": {},
   "outputs": [],
   "source": [
    "# scaler.mean_, scaler.var_"
   ]
  },
  {
   "cell_type": "code",
   "execution_count": 57,
   "metadata": {},
   "outputs": [
    {
     "data": {
      "text/plain": [
       "array([[-0.30696577,  0.52612716, -0.08184822, ..., -0.2642401 ,\n",
       "         0.19448471,  0.8089791 ],\n",
       "       [-0.31520057,  0.5292704 , -0.60991794, ..., -0.26399246,\n",
       "         0.03366043,  0.7919346 ],\n",
       "       [-0.3083938 ,  0.52596086, -1.0923604 , ...,  0.4165603 ,\n",
       "        -0.00560872,  0.31614688],\n",
       "       ...,\n",
       "       [ 4.18943   ,  0.5249657 ,  0.23220453, ..., -0.261663  ,\n",
       "         0.9512699 , -0.39753476],\n",
       "       [-0.31460592,  0.5261286 , -0.25785848, ..., -0.2651264 ,\n",
       "         0.07189348,  0.7314541 ],\n",
       "       [-0.30660912,  0.5240615 , -1.3579227 , ...,  0.3396699 ,\n",
       "        -0.8013544 ,  0.15956952]], dtype=float32)"
      ]
     },
     "execution_count": 57,
     "metadata": {},
     "output_type": "execute_result"
    }
   ],
   "source": [
    "scaler.transform(np.array(movie_df[\"synopsis_vector_numpy\"].tolist()))"
   ]
  },
  {
   "cell_type": "code",
   "execution_count": 58,
   "metadata": {},
   "outputs": [],
   "source": [
    "movie_df[\"synopsis_vector_numpy_scale\"] = scaler.transform(np.array(movie_df[\"synopsis_vector_numpy\"].tolist())).tolist()"
   ]
  },
  {
   "cell_type": "code",
   "execution_count": 36,
   "metadata": {},
   "outputs": [],
   "source": [
    "# movie_df[\"synopsis_vector_numpy_scale\"]\n",
    "# movie_df"
   ]
  },
  {
   "cell_type": "code",
   "execution_count": 59,
   "metadata": {},
   "outputs": [
    {
     "data": {
      "text/plain": [
       "array([[8.42936970e-08, 5.13615301e+00, 8.64671741e+00, ...,\n",
       "        9.53234802e+00, 6.34011023e+00, 9.88013714e+00],\n",
       "       [5.13615301e+00, 1.19209290e-07, 9.32985821e+00, ...,\n",
       "        9.43824077e+00, 5.85092072e+00, 1.01179555e+01],\n",
       "       [8.64671741e+00, 9.32985821e+00, 2.38418579e-07, ...,\n",
       "        1.17890169e+01, 7.72812140e+00, 8.54027247e+00],\n",
       "       ...,\n",
       "       [9.53234802e+00, 9.43824077e+00, 1.17890169e+01, ...,\n",
       "        3.95372485e-07, 8.69157840e+00, 1.26814832e+01],\n",
       "       [6.34011023e+00, 5.85092072e+00, 7.72812140e+00, ...,\n",
       "        8.69157840e+00, 1.19209290e-07, 9.31069456e+00],\n",
       "       [9.88013714e+00, 1.01179555e+01, 8.54027247e+00, ...,\n",
       "        1.26814832e+01, 9.31069456e+00, 0.00000000e+00]])"
      ]
     },
     "execution_count": 59,
     "metadata": {},
     "output_type": "execute_result"
    }
   ],
   "source": [
    "\n",
    "# synopsis_vector_numpy_scale 컬럼의 유클리드 거리를 계산\n",
    "sim_score = euclidean_distances(movie_df[\"synopsis_vector_numpy_scale\"].tolist(), movie_df[\"synopsis_vector_numpy_scale\"].tolist())\n",
    "\n",
    "sim_score"
   ]
  },
  {
   "cell_type": "code",
   "execution_count": 69,
   "metadata": {},
   "outputs": [
    {
     "data": {
      "text/html": [
       "<div>\n",
       "<style scoped>\n",
       "    .dataframe tbody tr th:only-of-type {\n",
       "        vertical-align: middle;\n",
       "    }\n",
       "\n",
       "    .dataframe tbody tr th {\n",
       "        vertical-align: top;\n",
       "    }\n",
       "\n",
       "    .dataframe thead th {\n",
       "        text-align: right;\n",
       "    }\n",
       "</style>\n",
       "<table border=\"1\" class=\"dataframe\">\n",
       "  <thead>\n",
       "    <tr style=\"text-align: right;\">\n",
       "      <th></th>\n",
       "      <th>0</th>\n",
       "      <th>1</th>\n",
       "      <th>2</th>\n",
       "      <th>3</th>\n",
       "      <th>4</th>\n",
       "      <th>5</th>\n",
       "      <th>6</th>\n",
       "      <th>7</th>\n",
       "      <th>8</th>\n",
       "      <th>9</th>\n",
       "      <th>...</th>\n",
       "      <th>660</th>\n",
       "      <th>661</th>\n",
       "      <th>662</th>\n",
       "      <th>663</th>\n",
       "      <th>664</th>\n",
       "      <th>665</th>\n",
       "      <th>666</th>\n",
       "      <th>667</th>\n",
       "      <th>668</th>\n",
       "      <th>669</th>\n",
       "    </tr>\n",
       "  </thead>\n",
       "  <tbody>\n",
       "    <tr>\n",
       "      <th>0</th>\n",
       "      <td>8.429370e-08</td>\n",
       "      <td>5.136153e+00</td>\n",
       "      <td>8.646717e+00</td>\n",
       "      <td>12.717427</td>\n",
       "      <td>1.018700e+01</td>\n",
       "      <td>12.403767</td>\n",
       "      <td>11.143185</td>\n",
       "      <td>10.126189</td>\n",
       "      <td>9.589855</td>\n",
       "      <td>12.566201</td>\n",
       "      <td>...</td>\n",
       "      <td>9.572444</td>\n",
       "      <td>7.920480</td>\n",
       "      <td>7.967869</td>\n",
       "      <td>8.999684</td>\n",
       "      <td>11.312161</td>\n",
       "      <td>1.829076e+01</td>\n",
       "      <td>1.214209e+01</td>\n",
       "      <td>9.532348e+00</td>\n",
       "      <td>6.340110e+00</td>\n",
       "      <td>9.880137</td>\n",
       "    </tr>\n",
       "    <tr>\n",
       "      <th>1</th>\n",
       "      <td>5.136153e+00</td>\n",
       "      <td>1.192093e-07</td>\n",
       "      <td>9.329858e+00</td>\n",
       "      <td>13.309175</td>\n",
       "      <td>1.021038e+01</td>\n",
       "      <td>12.633945</td>\n",
       "      <td>10.280917</td>\n",
       "      <td>9.709438</td>\n",
       "      <td>9.302442</td>\n",
       "      <td>12.537936</td>\n",
       "      <td>...</td>\n",
       "      <td>9.698906</td>\n",
       "      <td>8.290173</td>\n",
       "      <td>8.825379</td>\n",
       "      <td>8.711023</td>\n",
       "      <td>11.996958</td>\n",
       "      <td>1.803300e+01</td>\n",
       "      <td>1.212900e+01</td>\n",
       "      <td>9.438241e+00</td>\n",
       "      <td>5.850921e+00</td>\n",
       "      <td>10.117956</td>\n",
       "    </tr>\n",
       "    <tr>\n",
       "      <th>2</th>\n",
       "      <td>8.646717e+00</td>\n",
       "      <td>9.329858e+00</td>\n",
       "      <td>2.384186e-07</td>\n",
       "      <td>11.677614</td>\n",
       "      <td>1.299230e+01</td>\n",
       "      <td>10.235586</td>\n",
       "      <td>13.140918</td>\n",
       "      <td>11.922495</td>\n",
       "      <td>11.803037</td>\n",
       "      <td>9.675180</td>\n",
       "      <td>...</td>\n",
       "      <td>10.443660</td>\n",
       "      <td>8.268904</td>\n",
       "      <td>10.143057</td>\n",
       "      <td>10.538910</td>\n",
       "      <td>8.521542</td>\n",
       "      <td>1.998530e+01</td>\n",
       "      <td>1.378252e+01</td>\n",
       "      <td>1.178902e+01</td>\n",
       "      <td>7.728121e+00</td>\n",
       "      <td>8.540272</td>\n",
       "    </tr>\n",
       "    <tr>\n",
       "      <th>3</th>\n",
       "      <td>1.271743e+01</td>\n",
       "      <td>1.330918e+01</td>\n",
       "      <td>1.167761e+01</td>\n",
       "      <td>0.000000</td>\n",
       "      <td>1.627476e+01</td>\n",
       "      <td>9.814536</td>\n",
       "      <td>16.121167</td>\n",
       "      <td>15.119422</td>\n",
       "      <td>15.448566</td>\n",
       "      <td>10.596105</td>\n",
       "      <td>...</td>\n",
       "      <td>14.288903</td>\n",
       "      <td>12.143743</td>\n",
       "      <td>13.089000</td>\n",
       "      <td>12.968475</td>\n",
       "      <td>10.624838</td>\n",
       "      <td>2.128302e+01</td>\n",
       "      <td>1.595866e+01</td>\n",
       "      <td>1.486802e+01</td>\n",
       "      <td>1.261108e+01</td>\n",
       "      <td>8.930263</td>\n",
       "    </tr>\n",
       "    <tr>\n",
       "      <th>4</th>\n",
       "      <td>1.018700e+01</td>\n",
       "      <td>1.021038e+01</td>\n",
       "      <td>1.299230e+01</td>\n",
       "      <td>16.274764</td>\n",
       "      <td>2.384186e-07</td>\n",
       "      <td>15.418483</td>\n",
       "      <td>9.197911</td>\n",
       "      <td>11.252566</td>\n",
       "      <td>7.571483</td>\n",
       "      <td>15.408927</td>\n",
       "      <td>...</td>\n",
       "      <td>9.822064</td>\n",
       "      <td>12.418254</td>\n",
       "      <td>11.888827</td>\n",
       "      <td>11.200681</td>\n",
       "      <td>15.082083</td>\n",
       "      <td>1.630181e+01</td>\n",
       "      <td>1.012789e+01</td>\n",
       "      <td>1.123512e+01</td>\n",
       "      <td>1.024200e+01</td>\n",
       "      <td>13.554413</td>\n",
       "    </tr>\n",
       "    <tr>\n",
       "      <th>...</th>\n",
       "      <td>...</td>\n",
       "      <td>...</td>\n",
       "      <td>...</td>\n",
       "      <td>...</td>\n",
       "      <td>...</td>\n",
       "      <td>...</td>\n",
       "      <td>...</td>\n",
       "      <td>...</td>\n",
       "      <td>...</td>\n",
       "      <td>...</td>\n",
       "      <td>...</td>\n",
       "      <td>...</td>\n",
       "      <td>...</td>\n",
       "      <td>...</td>\n",
       "      <td>...</td>\n",
       "      <td>...</td>\n",
       "      <td>...</td>\n",
       "      <td>...</td>\n",
       "      <td>...</td>\n",
       "      <td>...</td>\n",
       "      <td>...</td>\n",
       "    </tr>\n",
       "    <tr>\n",
       "      <th>665</th>\n",
       "      <td>1.829076e+01</td>\n",
       "      <td>1.803300e+01</td>\n",
       "      <td>1.998530e+01</td>\n",
       "      <td>21.283023</td>\n",
       "      <td>1.630181e+01</td>\n",
       "      <td>21.082383</td>\n",
       "      <td>17.506642</td>\n",
       "      <td>19.553486</td>\n",
       "      <td>17.490387</td>\n",
       "      <td>21.808727</td>\n",
       "      <td>...</td>\n",
       "      <td>18.638600</td>\n",
       "      <td>19.575786</td>\n",
       "      <td>19.546641</td>\n",
       "      <td>19.561725</td>\n",
       "      <td>19.275827</td>\n",
       "      <td>3.371748e-07</td>\n",
       "      <td>1.821044e+01</td>\n",
       "      <td>1.884444e+01</td>\n",
       "      <td>1.809343e+01</td>\n",
       "      <td>20.243250</td>\n",
       "    </tr>\n",
       "    <tr>\n",
       "      <th>666</th>\n",
       "      <td>1.214209e+01</td>\n",
       "      <td>1.212900e+01</td>\n",
       "      <td>1.378252e+01</td>\n",
       "      <td>15.958660</td>\n",
       "      <td>1.012789e+01</td>\n",
       "      <td>16.365299</td>\n",
       "      <td>10.729235</td>\n",
       "      <td>11.680033</td>\n",
       "      <td>10.480666</td>\n",
       "      <td>15.971714</td>\n",
       "      <td>...</td>\n",
       "      <td>9.814171</td>\n",
       "      <td>12.125656</td>\n",
       "      <td>12.489581</td>\n",
       "      <td>12.167447</td>\n",
       "      <td>16.119065</td>\n",
       "      <td>1.821044e+01</td>\n",
       "      <td>1.685874e-07</td>\n",
       "      <td>1.217558e+01</td>\n",
       "      <td>1.148830e+01</td>\n",
       "      <td>14.230093</td>\n",
       "    </tr>\n",
       "    <tr>\n",
       "      <th>667</th>\n",
       "      <td>9.532348e+00</td>\n",
       "      <td>9.438241e+00</td>\n",
       "      <td>1.178902e+01</td>\n",
       "      <td>14.868024</td>\n",
       "      <td>1.123512e+01</td>\n",
       "      <td>12.614945</td>\n",
       "      <td>11.378572</td>\n",
       "      <td>9.178670</td>\n",
       "      <td>9.351144</td>\n",
       "      <td>13.176898</td>\n",
       "      <td>...</td>\n",
       "      <td>9.725712</td>\n",
       "      <td>9.591533</td>\n",
       "      <td>11.403170</td>\n",
       "      <td>10.083518</td>\n",
       "      <td>14.063271</td>\n",
       "      <td>1.884444e+01</td>\n",
       "      <td>1.217558e+01</td>\n",
       "      <td>3.953725e-07</td>\n",
       "      <td>8.691578e+00</td>\n",
       "      <td>12.681483</td>\n",
       "    </tr>\n",
       "    <tr>\n",
       "      <th>668</th>\n",
       "      <td>6.340110e+00</td>\n",
       "      <td>5.850921e+00</td>\n",
       "      <td>7.728121e+00</td>\n",
       "      <td>12.611081</td>\n",
       "      <td>1.024200e+01</td>\n",
       "      <td>11.947137</td>\n",
       "      <td>10.672641</td>\n",
       "      <td>9.363375</td>\n",
       "      <td>8.500983</td>\n",
       "      <td>11.236314</td>\n",
       "      <td>...</td>\n",
       "      <td>9.374325</td>\n",
       "      <td>7.782079</td>\n",
       "      <td>8.933411</td>\n",
       "      <td>7.709240</td>\n",
       "      <td>10.965142</td>\n",
       "      <td>1.809343e+01</td>\n",
       "      <td>1.148830e+01</td>\n",
       "      <td>8.691578e+00</td>\n",
       "      <td>1.192093e-07</td>\n",
       "      <td>9.310695</td>\n",
       "    </tr>\n",
       "    <tr>\n",
       "      <th>669</th>\n",
       "      <td>9.880137e+00</td>\n",
       "      <td>1.011796e+01</td>\n",
       "      <td>8.540272e+00</td>\n",
       "      <td>8.930263</td>\n",
       "      <td>1.355441e+01</td>\n",
       "      <td>10.862005</td>\n",
       "      <td>14.006547</td>\n",
       "      <td>12.709512</td>\n",
       "      <td>12.564699</td>\n",
       "      <td>9.380702</td>\n",
       "      <td>...</td>\n",
       "      <td>12.359937</td>\n",
       "      <td>8.721122</td>\n",
       "      <td>11.174783</td>\n",
       "      <td>9.868725</td>\n",
       "      <td>9.148290</td>\n",
       "      <td>2.024325e+01</td>\n",
       "      <td>1.423009e+01</td>\n",
       "      <td>1.268148e+01</td>\n",
       "      <td>9.310695e+00</td>\n",
       "      <td>0.000000</td>\n",
       "    </tr>\n",
       "  </tbody>\n",
       "</table>\n",
       "<p>670 rows × 670 columns</p>\n",
       "</div>"
      ],
      "text/plain": [
       "              0             1             2          3             4    \\\n",
       "0    8.429370e-08  5.136153e+00  8.646717e+00  12.717427  1.018700e+01   \n",
       "1    5.136153e+00  1.192093e-07  9.329858e+00  13.309175  1.021038e+01   \n",
       "2    8.646717e+00  9.329858e+00  2.384186e-07  11.677614  1.299230e+01   \n",
       "3    1.271743e+01  1.330918e+01  1.167761e+01   0.000000  1.627476e+01   \n",
       "4    1.018700e+01  1.021038e+01  1.299230e+01  16.274764  2.384186e-07   \n",
       "..            ...           ...           ...        ...           ...   \n",
       "665  1.829076e+01  1.803300e+01  1.998530e+01  21.283023  1.630181e+01   \n",
       "666  1.214209e+01  1.212900e+01  1.378252e+01  15.958660  1.012789e+01   \n",
       "667  9.532348e+00  9.438241e+00  1.178902e+01  14.868024  1.123512e+01   \n",
       "668  6.340110e+00  5.850921e+00  7.728121e+00  12.611081  1.024200e+01   \n",
       "669  9.880137e+00  1.011796e+01  8.540272e+00   8.930263  1.355441e+01   \n",
       "\n",
       "           5          6          7          8          9    ...        660  \\\n",
       "0    12.403767  11.143185  10.126189   9.589855  12.566201  ...   9.572444   \n",
       "1    12.633945  10.280917   9.709438   9.302442  12.537936  ...   9.698906   \n",
       "2    10.235586  13.140918  11.922495  11.803037   9.675180  ...  10.443660   \n",
       "3     9.814536  16.121167  15.119422  15.448566  10.596105  ...  14.288903   \n",
       "4    15.418483   9.197911  11.252566   7.571483  15.408927  ...   9.822064   \n",
       "..         ...        ...        ...        ...        ...  ...        ...   \n",
       "665  21.082383  17.506642  19.553486  17.490387  21.808727  ...  18.638600   \n",
       "666  16.365299  10.729235  11.680033  10.480666  15.971714  ...   9.814171   \n",
       "667  12.614945  11.378572   9.178670   9.351144  13.176898  ...   9.725712   \n",
       "668  11.947137  10.672641   9.363375   8.500983  11.236314  ...   9.374325   \n",
       "669  10.862005  14.006547  12.709512  12.564699   9.380702  ...  12.359937   \n",
       "\n",
       "           661        662        663        664           665           666  \\\n",
       "0     7.920480   7.967869   8.999684  11.312161  1.829076e+01  1.214209e+01   \n",
       "1     8.290173   8.825379   8.711023  11.996958  1.803300e+01  1.212900e+01   \n",
       "2     8.268904  10.143057  10.538910   8.521542  1.998530e+01  1.378252e+01   \n",
       "3    12.143743  13.089000  12.968475  10.624838  2.128302e+01  1.595866e+01   \n",
       "4    12.418254  11.888827  11.200681  15.082083  1.630181e+01  1.012789e+01   \n",
       "..         ...        ...        ...        ...           ...           ...   \n",
       "665  19.575786  19.546641  19.561725  19.275827  3.371748e-07  1.821044e+01   \n",
       "666  12.125656  12.489581  12.167447  16.119065  1.821044e+01  1.685874e-07   \n",
       "667   9.591533  11.403170  10.083518  14.063271  1.884444e+01  1.217558e+01   \n",
       "668   7.782079   8.933411   7.709240  10.965142  1.809343e+01  1.148830e+01   \n",
       "669   8.721122  11.174783   9.868725   9.148290  2.024325e+01  1.423009e+01   \n",
       "\n",
       "              667           668        669  \n",
       "0    9.532348e+00  6.340110e+00   9.880137  \n",
       "1    9.438241e+00  5.850921e+00  10.117956  \n",
       "2    1.178902e+01  7.728121e+00   8.540272  \n",
       "3    1.486802e+01  1.261108e+01   8.930263  \n",
       "4    1.123512e+01  1.024200e+01  13.554413  \n",
       "..            ...           ...        ...  \n",
       "665  1.884444e+01  1.809343e+01  20.243250  \n",
       "666  1.217558e+01  1.148830e+01  14.230093  \n",
       "667  3.953725e-07  8.691578e+00  12.681483  \n",
       "668  8.691578e+00  1.192093e-07   9.310695  \n",
       "669  1.268148e+01  9.310695e+00   0.000000  \n",
       "\n",
       "[670 rows x 670 columns]"
      ]
     },
     "execution_count": 69,
     "metadata": {},
     "output_type": "execute_result"
    }
   ],
   "source": [
    "# sim_score[0]\n",
    "\n",
    "sim_df = pd.DataFrame(data=sim_score)\n",
    "sim_df"
   ]
  },
  {
   "cell_type": "code",
   "execution_count": 71,
   "metadata": {},
   "outputs": [],
   "source": [
    "sim_df.index = movie_df[\"title\"]\n",
    "sim_df.columns = movie_df[\"title\"]\n",
    "\n",
    "# sim_df"
   ]
  },
  {
   "cell_type": "code",
   "execution_count": 75,
   "metadata": {},
   "outputs": [
    {
     "data": {
      "text/plain": [
       "title\n",
       "보이스                   5.091718\n",
       "스파이더맨: 어크로스 더 유니버스    5.548917\n",
       "언어의 정원                5.808760\n",
       "뽀로로 극장판 드래곤캐슬 대모험     5.847725\n",
       "라스트 필름                5.884819\n",
       "Name: 존 윅 - 리로드, dtype: float64"
      ]
     },
     "execution_count": 75,
     "metadata": {},
     "output_type": "execute_result"
    }
   ],
   "source": [
    "# 영화 존 윅 - 리로드 와 거리가 가까운 순으로 TOP 5 조회\n",
    "## 자기 자신 제외\n",
    "\n",
    "sim_df[\"존 윅 - 리로드\"].sort_values()[1:6]"
   ]
  },
  {
   "cell_type": "code",
   "execution_count": 76,
   "metadata": {},
   "outputs": [
    {
     "data": {
      "text/html": [
       "<div>\n",
       "<style scoped>\n",
       "    .dataframe tbody tr th:only-of-type {\n",
       "        vertical-align: middle;\n",
       "    }\n",
       "\n",
       "    .dataframe tbody tr th {\n",
       "        vertical-align: top;\n",
       "    }\n",
       "\n",
       "    .dataframe thead th {\n",
       "        text-align: right;\n",
       "    }\n",
       "</style>\n",
       "<table border=\"1\" class=\"dataframe\">\n",
       "  <thead>\n",
       "    <tr style=\"text-align: right;\">\n",
       "      <th></th>\n",
       "      <th>title</th>\n",
       "      <th>존 윅 - 리로드</th>\n",
       "    </tr>\n",
       "  </thead>\n",
       "  <tbody>\n",
       "    <tr>\n",
       "      <th>0</th>\n",
       "      <td>보이스</td>\n",
       "      <td>5.091718</td>\n",
       "    </tr>\n",
       "    <tr>\n",
       "      <th>1</th>\n",
       "      <td>스파이더맨: 어크로스 더 유니버스</td>\n",
       "      <td>5.548917</td>\n",
       "    </tr>\n",
       "    <tr>\n",
       "      <th>2</th>\n",
       "      <td>언어의 정원</td>\n",
       "      <td>5.808760</td>\n",
       "    </tr>\n",
       "    <tr>\n",
       "      <th>3</th>\n",
       "      <td>뽀로로 극장판 드래곤캐슬 대모험</td>\n",
       "      <td>5.847725</td>\n",
       "    </tr>\n",
       "    <tr>\n",
       "      <th>4</th>\n",
       "      <td>라스트 필름</td>\n",
       "      <td>5.884819</td>\n",
       "    </tr>\n",
       "  </tbody>\n",
       "</table>\n",
       "</div>"
      ],
      "text/plain": [
       "                title  존 윅 - 리로드\n",
       "0                 보이스   5.091718\n",
       "1  스파이더맨: 어크로스 더 유니버스   5.548917\n",
       "2              언어의 정원   5.808760\n",
       "3   뽀로로 극장판 드래곤캐슬 대모험   5.847725\n",
       "4              라스트 필름   5.884819"
      ]
     },
     "execution_count": 76,
     "metadata": {},
     "output_type": "execute_result"
    }
   ],
   "source": [
    "pd.DataFrame(sim_df[\"존 윅 - 리로드\"].sort_values()[1:6]).reset_index()"
   ]
  },
  {
   "cell_type": "code",
   "execution_count": 77,
   "metadata": {},
   "outputs": [
    {
     "data": {
      "text/plain": [
       "[['보이스', 5.091718251403315],\n",
       " ['스파이더맨: 어크로스 더 유니버스', 5.5489172268224145],\n",
       " ['언어의 정원', 5.8087597936066215],\n",
       " ['뽀로로 극장판 드래곤캐슬 대모험', 5.847724703868203],\n",
       " ['라스트 필름', 5.884819403316852]]"
      ]
     },
     "execution_count": 77,
     "metadata": {},
     "output_type": "execute_result"
    }
   ],
   "source": [
    "sim_df[\"존 윅 - 리로드\"].sort_values()[1:6].reset_index().values.tolist()"
   ]
  },
  {
   "cell_type": "code",
   "execution_count": 78,
   "metadata": {},
   "outputs": [
    {
     "data": {
      "text/plain": [
       "'[[\"보이스\", 5.091718251403315], [\"스파이더맨: 어크로스 더 유니버스\", 5.5489172268224145], [\"언어의 정원\", 5.8087597936066215], [\"뽀로로 극장판 드래곤캐슬 대모험\", 5.847724703868203], [\"라스트 필름\", 5.884819403316852]]'"
      ]
     },
     "execution_count": 78,
     "metadata": {},
     "output_type": "execute_result"
    }
   ],
   "source": [
    "# 위의 영화 존 윅 - 리로드 와 거리가 가까운 순으로 자기 자신을 제외한 TOP 5 값을\n",
    "## DataFrame 으로 바꾸고 인덱스를 지우고 해당 영화 제목을 넣은 값에서\n",
    "### numpy 배열 -> 리스트로 바꾼 후 다시 DataFrame에 담아 json 문자열로 변환한 결과\n",
    "\n",
    "result = pd.DataFrame(sim_df[\"존 윅 - 리로드\"].sort_values()[1:6]).reset_index().values.tolist()\n",
    "\n",
    "json.dumps(result, ensure_ascii=False)"
   ]
  },
  {
   "cell_type": "code",
   "execution_count": null,
   "metadata": {},
   "outputs": [],
   "source": [
    "db.close()"
   ]
  },
  {
   "cell_type": "code",
   "execution_count": null,
   "metadata": {},
   "outputs": [],
   "source": []
  }
 ],
 "metadata": {
  "kernelspec": {
   "display_name": "venv",
   "language": "python",
   "name": "python3"
  },
  "language_info": {
   "codemirror_mode": {
    "name": "ipython",
    "version": 3
   },
   "file_extension": ".py",
   "mimetype": "text/x-python",
   "name": "python",
   "nbconvert_exporter": "python",
   "pygments_lexer": "ipython3",
   "version": "3.10.9"
  },
  "orig_nbformat": 4
 },
 "nbformat": 4,
 "nbformat_minor": 2
}
