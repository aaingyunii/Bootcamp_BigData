{
 "cells": [
  {
   "cell_type": "code",
   "execution_count": 5,
   "id": "c9b5457c",
   "metadata": {},
   "outputs": [],
   "source": [
    "# pip install webdriver_manager"
   ]
  },
  {
   "cell_type": "code",
   "execution_count": 1,
   "id": "f23713ea-81dc-4c29-b013-4d0709c9ca6c",
   "metadata": {},
   "outputs": [],
   "source": [
    "from selenium import webdriver\n",
    "from bs4 import BeautifulSoup\n",
    "from selenium.webdriver.common.by import By\n",
    "from selenium.webdriver.chrome.options import Options\n",
    "import pymysql\n",
    "import time"
   ]
  },
  {
   "cell_type": "markdown",
   "id": "1e522454",
   "metadata": {},
   "source": [
    "## 네이버에서 한 영화에 대한 정보를 가져오는 작업 수행"
   ]
  },
  {
   "cell_type": "code",
   "execution_count": 2,
   "id": "f69f49a9-1cd8-4aae-9388-245cd279ef68",
   "metadata": {},
   "outputs": [],
   "source": [
    "# 크롬 드라이버 옵션을 설정할 객체\n",
    "chrome_options = Options()\n",
    "\n",
    "# 브라우저 꺼짐 방지\n",
    "chrome_options.add_experimental_option(\"detach\", True)\n",
    "\n",
    "# 크롬 드라이버에 옵션 설정\n",
    "driver = webdriver.Chrome(options=chrome_options)"
   ]
  },
  {
   "cell_type": "code",
   "execution_count": 3,
   "id": "96d149cf",
   "metadata": {},
   "outputs": [],
   "source": [
    "# 네이버 영화 검색 사이트 url\n",
    "url = \"https://search.naver.com/search.naver?where=nexearch&sm=top_hty&fbm=1&ie=utf8&query=%EC%98%81%ED%99%94\"\n",
    "\n",
    "# 페이지 로딩될 때 까지 최대 10초 대기 설정\n",
    "driver.implicitly_wait(10)\n",
    "# 네이버 영화 검색 페이지 설정\n",
    "driver.get(url)\n"
   ]
  },
  {
   "cell_type": "code",
   "execution_count": 4,
   "id": "9dcb0f32-7fcf-49d1-bf89-9d76a5b44aae",
   "metadata": {},
   "outputs": [],
   "source": [
    "# 해당 웹 페이지에서\n",
    "## id 속성이 nx_query 인 객체를 search_box에 할당\n",
    "search_box = driver.find_element(By.ID, 'nx_query')\n",
    "\n",
    "# 기존 입력한 메세지 삭제\n",
    "search_box.clear()"
   ]
  },
  {
   "cell_type": "code",
   "execution_count": 5,
   "id": "ff39d78f-0a44-4073-bce3-1f75fc049fc8",
   "metadata": {},
   "outputs": [],
   "source": [
    "# 검색할 영화\n",
    "movie = '범죄도시3'\n",
    "\n",
    "search_box.send_keys('영화 ', movie)"
   ]
  },
  {
   "cell_type": "code",
   "execution_count": 6,
   "id": "941a47e7",
   "metadata": {},
   "outputs": [],
   "source": [
    "# 클래스 속성이 bt_search인 객체 리턴\n",
    "search_btn = driver.find_element(By.CLASS_NAME, 'bt_search')\n",
    "\n",
    "# 버튼 클릭\n",
    "search_btn.click()"
   ]
  },
  {
   "cell_type": "code",
   "execution_count": 7,
   "id": "f3a8c15d",
   "metadata": {},
   "outputs": [],
   "source": [
    "# 클래스 속성이 tab_list 인 객체 리턴\n",
    "tab_list = driver.find_element(By.CLASS_NAME, 'tab_list')"
   ]
  },
  {
   "cell_type": "code",
   "execution_count": 8,
   "id": "ed1feb1a",
   "metadata": {},
   "outputs": [],
   "source": [
    "# 클래스 속성이 tab _tab (클래스 속성이 tab _tab 2개 적용) 인 객체들 (여러 개) 중 인덱스 1인 객체 리턴\n",
    "tab = tab_list.find_elements(By.CSS_SELECTOR, \".tab._tab\")[1]\n",
    "\n",
    "tab.click()"
   ]
  },
  {
   "cell_type": "code",
   "execution_count": 9,
   "id": "21027e1b",
   "metadata": {},
   "outputs": [],
   "source": [
    "# 페이지 소스 리턴\n",
    "html = driver.page_source\n",
    "\n",
    "# 페이지의 정보를 추출 할  soup 객체 생성\n",
    "soup = BeautifulSoup(html, 'html.parser')\n",
    "\n",
    "# 페이지 소스 출력\n",
    "# soup"
   ]
  },
  {
   "cell_type": "code",
   "execution_count": 10,
   "id": "6d388fc4",
   "metadata": {},
   "outputs": [
    {
     "data": {
      "text/plain": [
       "'범죄도시3'"
      ]
     },
     "execution_count": 10,
     "metadata": {},
     "output_type": "execute_result"
    }
   ],
   "source": [
    "title = soup.select_one(\".area_text_title\").text\n",
    "title"
   ]
  },
  {
   "cell_type": "code",
   "execution_count": 14,
   "id": "cfc0ec34",
   "metadata": {},
   "outputs": [
    {
     "data": {
      "text/plain": [
       "<div class=\"detail_info\"> <a class=\"thumb _item\" href=\"?where=nexearch&amp;sm=tab_etc&amp;mra=bkEw&amp;pkid=68&amp;os=28594807&amp;qvt=0&amp;query=%EB%B2%94%EC%A3%84%EB%8F%84%EC%8B%9C3%20%ED%8F%AC%ED%86%A0\" nocr=\"\" onclick=\"return goOtherCR(this, 'a=nco_x0a*A.tabposter&amp;r=1&amp;i=1800009D_000001B45277&amp;u=' + urlencode(this.href));\"> <img alt=\"범죄도시3\" class=\"_img\" height=\"121\" src=\"https://search.pstatic.net/common?type=o&amp;size=174x242&amp;quality=85&amp;direct=true&amp;src=https%3A%2F%2Fs.pstatic.net%2Fmovie.phinf%2F20230508_234%2F1683510751767I8t1j_JPEG%2Fmovie_image.jpg%3Ftype%3Dw640_2\" width=\"87\"/> <div class=\"area_badge_1000\"><span class=\"blind\">천만관객</span></div> </a> <dl class=\"info txt_4\"> <div class=\"info_group\"> <dt><span class=\"cm_bar\"></span>개봉</dt> <dd>2023.05.31.</dd> </div> <div class=\"info_group\"> <dt class=\"\"><span class=\"cm_bar\"></span>등급</dt> <dd>15세 관람가</dd> </div> <div class=\"info_group\"> <dt><span class=\"cm_bar\"></span>장르</dt> <dd>범죄, 액션</dd> </div> <div class=\"info_group\"> <dt><span class=\"cm_bar\"></span>국가</dt> <dd>대한민국</dd> </div> <div class=\"info_group\"> <dt><span class=\"cm_bar\"></span>러닝타임</dt> <dd>105분</dd> </div> <div class=\"info_group\"> <dt><span class=\"cm_bar\"></span>배급</dt> <dd>에이비오엔터테인먼트, 플러스엠 엔터테인먼트</dd> </div> </dl> </div>"
      ]
     },
     "execution_count": 14,
     "metadata": {},
     "output_type": "execute_result"
    }
   ],
   "source": [
    "detail_info = soup.select_one(\".detail_info\")\n",
    "detail_info"
   ]
  },
  {
   "cell_type": "code",
   "execution_count": 15,
   "id": "b2077b8d",
   "metadata": {},
   "outputs": [
    {
     "data": {
      "text/plain": [
       "<img alt=\"범죄도시3\" class=\"_img\" height=\"121\" src=\"https://search.pstatic.net/common?type=o&amp;size=174x242&amp;quality=85&amp;direct=true&amp;src=https%3A%2F%2Fs.pstatic.net%2Fmovie.phinf%2F20230508_234%2F1683510751767I8t1j_JPEG%2Fmovie_image.jpg%3Ftype%3Dw640_2\" width=\"87\"/>"
      ]
     },
     "execution_count": 15,
     "metadata": {},
     "output_type": "execute_result"
    }
   ],
   "source": [
    "img = detail_info.select_one(\"._img\")\n",
    "img"
   ]
  },
  {
   "cell_type": "code",
   "execution_count": 16,
   "id": "c7c58038",
   "metadata": {},
   "outputs": [
    {
     "data": {
      "text/plain": [
       "'https://search.pstatic.net/common?type=o&size=174x242&quality=85&direct=true&src=https%3A%2F%2Fs.pstatic.net%2Fmovie.phinf%2F20230508_234%2F1683510751767I8t1j_JPEG%2Fmovie_image.jpg%3Ftype%3Dw640_2'"
      ]
     },
     "execution_count": 16,
     "metadata": {},
     "output_type": "execute_result"
    }
   ],
   "source": [
    "poster = img['src']\n",
    "poster"
   ]
  },
  {
   "cell_type": "code",
   "execution_count": 17,
   "id": "ee2a7d4f-822e-4b34-94ef-d47ead401f13",
   "metadata": {},
   "outputs": [
    {
     "data": {
      "text/plain": [
       "[<dd>2023.05.31.</dd>,\n",
       " <dd>15세 관람가</dd>,\n",
       " <dd>범죄, 액션</dd>,\n",
       " <dd>대한민국</dd>,\n",
       " <dd>105분</dd>,\n",
       " <dd>에이비오엔터테인먼트, 플러스엠 엔터테인먼트</dd>]"
      ]
     },
     "execution_count": 17,
     "metadata": {},
     "output_type": "execute_result"
    }
   ],
   "source": [
    "info_group = soup.select_one(\".info.txt_4\")\n",
    "\n",
    "## dd 엘리먼트 여러 개 리턴\n",
    "dd_list = info_group.select(\"dd\")\n",
    "dd_list"
   ]
  },
  {
   "cell_type": "code",
   "execution_count": 21,
   "id": "2da6ec10-a544-40c4-8260-72f0fd268fa0",
   "metadata": {},
   "outputs": [
    {
     "name": "stdout",
     "output_type": "stream",
     "text": [
      "2023.05.31. 15세 관람가 범죄, 액션 대한민국 105분\n"
     ]
    }
   ],
   "source": [
    "open_date = dd_list[0].text\n",
    "degree = dd_list[1].text\n",
    "genre = dd_list[2].text\n",
    "country = dd_list[3].text\n",
    "movie_time = dd_list[4].text\n",
    "\n",
    "## DB 테이블 컬럼에 없기 때문에 굳이 안가져옴\n",
    "# company = dd_list[5].text\n",
    "\n",
    "print(open_date, degree, genre, country, movie_time)"
   ]
  },
  {
   "cell_type": "code",
   "execution_count": 26,
   "id": "60d481e6",
   "metadata": {},
   "outputs": [],
   "source": [
    "sysnopsis = soup.select_one(\".text._content_text\")\n",
    "# print(sysnopsis.text)"
   ]
  },
  {
   "cell_type": "code",
   "execution_count": null,
   "id": "46fbae10",
   "metadata": {},
   "outputs": [],
   "source": []
  },
  {
   "cell_type": "code",
   "execution_count": null,
   "id": "d7bb91da",
   "metadata": {},
   "outputs": [],
   "source": []
  },
  {
   "cell_type": "markdown",
   "id": "2be702a8",
   "metadata": {},
   "source": [
    "## 뽑을 영화 제목 리스트 가져오기"
   ]
  },
  {
   "cell_type": "code",
   "execution_count": 30,
   "id": "d4477391",
   "metadata": {},
   "outputs": [],
   "source": [
    "# pip install wget"
   ]
  },
  {
   "cell_type": "code",
   "execution_count": 37,
   "id": "0f5b1036",
   "metadata": {},
   "outputs": [],
   "source": [
    "# pip install openpyxl\n",
    "## 파이썬에서 엑셀을 다루기 위해 따로 설치해야한다. \n",
    "### 'openpyxl'"
   ]
  },
  {
   "cell_type": "code",
   "execution_count": 7,
   "id": "9fc0970a",
   "metadata": {},
   "outputs": [],
   "source": [
    "import wget\n",
    "import pandas as pd"
   ]
  },
  {
   "cell_type": "code",
   "execution_count": 33,
   "id": "36990910",
   "metadata": {},
   "outputs": [
    {
     "data": {
      "text/plain": [
       "'box_office_2023.xlsx'"
      ]
     },
     "execution_count": 33,
     "metadata": {},
     "output_type": "execute_result"
    }
   ],
   "source": [
    "# 2023 박스오피스 영화 리스트 url\n",
    "movie_list_url = \"https://drive.google.com/uc?id=16MAmf6sFrs-tgGL4-dETRi_i7_hbObtU\"\n",
    "\n",
    "# 파일 다운로드\n",
    "wget.download(movie_list_url)"
   ]
  },
  {
   "cell_type": "code",
   "execution_count": 8,
   "id": "d6ec9f81",
   "metadata": {},
   "outputs": [
    {
     "data": {
      "text/plain": [
       "(1466, 11)"
      ]
     },
     "execution_count": 8,
     "metadata": {},
     "output_type": "execute_result"
    }
   ],
   "source": [
    "# 영화 리스트 가져오기\n",
    "movie_2023 = pd.read_excel(\"box_office_2023.xlsx\")\n",
    "movie_2023.shape"
   ]
  },
  {
   "cell_type": "code",
   "execution_count": 9,
   "id": "0e188498",
   "metadata": {},
   "outputs": [],
   "source": [
    "# 결측치가 있는 행 삭제\n",
    "movie_2023.dropna(axis=0, inplace=True)\n",
    "# movie_2023"
   ]
  },
  {
   "cell_type": "code",
   "execution_count": 10,
   "id": "bebbaa0a",
   "metadata": {},
   "outputs": [
    {
     "data": {
      "text/plain": [
       "762"
      ]
     },
     "execution_count": 10,
     "metadata": {},
     "output_type": "execute_result"
    }
   ],
   "source": [
    "movie_list = movie_2023['영화명'].to_list()\n",
    "movie_list.__len__()"
   ]
  },
  {
   "cell_type": "code",
   "execution_count": 11,
   "id": "b9c61f32",
   "metadata": {},
   "outputs": [
    {
     "data": {
      "text/plain": [
       "379"
      ]
     },
     "execution_count": 11,
     "metadata": {},
     "output_type": "execute_result"
    }
   ],
   "source": [
    "movie_list.index(\"존 윅\")"
   ]
  },
  {
   "cell_type": "code",
   "execution_count": null,
   "id": "992f0b1e",
   "metadata": {},
   "outputs": [],
   "source": []
  },
  {
   "cell_type": "markdown",
   "id": "40dc18c0",
   "metadata": {},
   "source": [
    "# `movie_list` 를 통해 다수의 영화 정보 크롤링 및 DB 저장"
   ]
  },
  {
   "cell_type": "markdown",
   "id": "cc0a5dea",
   "metadata": {},
   "source": [
    "### DB 연결"
   ]
  },
  {
   "cell_type": "code",
   "execution_count": 2,
   "id": "5dc051e6",
   "metadata": {},
   "outputs": [],
   "source": [
    "import pymysql\n",
    "from tqdm import tqdm"
   ]
  },
  {
   "cell_type": "code",
   "execution_count": 58,
   "id": "f0c5cac4",
   "metadata": {},
   "outputs": [],
   "source": [
    "# movie_list"
   ]
  },
  {
   "cell_type": "code",
   "execution_count": 15,
   "id": "afe2d6ea",
   "metadata": {},
   "outputs": [],
   "source": [
    "db = pymysql.connect(\n",
    "    # host = \"aws db 엔드포인트\",\n",
    "    host=\"\",\n",
    "    port=3306,\n",
    "    user='admin',\n",
    "    # passwd='관리자 계정 비밀번호',\n",
    "    passwd=\"\",\n",
    "    db='movie_db',\n",
    "    charset='utf8'\n",
    ")"
   ]
  },
  {
   "cell_type": "code",
   "execution_count": 16,
   "id": "9b6716c8",
   "metadata": {},
   "outputs": [],
   "source": [
    "# 데이터베이스 쿼리를 실행할 객체 생성\n",
    "cursor= db.cursor()"
   ]
  },
  {
   "cell_type": "code",
   "execution_count": 71,
   "id": "f994c1a1",
   "metadata": {},
   "outputs": [],
   "source": [
    "# cursor.execute(\"show tables\")"
   ]
  },
  {
   "cell_type": "code",
   "execution_count": 5,
   "id": "5c399b9d",
   "metadata": {},
   "outputs": [],
   "source": [
    "# 크롬 드라이버 옵션을 설정할 객체\n",
    "chrome_options = Options()\n",
    "# 브라우저 꺼짐 방지\n",
    "chrome_options.add_experimental_option(\"detach\", True)\n",
    "\n",
    "# 크롬 드라이버에 옵션 설정\n",
    "driver = webdriver.Chrome(options=chrome_options)\n",
    "# 네이버 영화 검색 사이트 url\n",
    "url = \"https://search.naver.com/search.naver?where=nexearch&sm=top_hty&fbm=1&ie=utf8&query=%EC%98%81%ED%99%94\"\n",
    "# 페이지 로딩될 때 까지 최대 10초 대기 설정\n",
    "driver.implicitly_wait(10)\n",
    "# 네이버 영화 검색 페이지 설정\n",
    "driver.get(url)\n"
   ]
  },
  {
   "cell_type": "code",
   "execution_count": null,
   "id": "e3824ed7",
   "metadata": {},
   "outputs": [],
   "source": []
  },
  {
   "cell_type": "markdown",
   "id": "0e393c59",
   "metadata": {},
   "source": [
    "# 반복문을 통해 각 영화 정보 수집 후 INSERT 구문 실행"
   ]
  },
  {
   "cell_type": "code",
   "execution_count": 17,
   "id": "24217253",
   "metadata": {},
   "outputs": [
    {
     "name": "stderr",
     "output_type": "stream",
     "text": [
      "  2%|▏         | 14/762 [01:05<59:47,  4.80s/it]  "
     ]
    },
    {
     "name": "stdout",
     "output_type": "stream",
     "text": [
      "수집 하고자 하는 데이터 중 없는 데이터 (주로 줄거리) 가 있어서 에러가 발생함.\n"
     ]
    },
    {
     "name": "stderr",
     "output_type": "stream",
     "text": [
      "  6%|▌         | 42/762 [03:23<1:22:24,  6.87s/it]"
     ]
    },
    {
     "name": "stdout",
     "output_type": "stream",
     "text": [
      "수집 하고자 하는 데이터 중 없는 데이터 (주로 줄거리) 가 있어서 에러가 발생함.\n"
     ]
    },
    {
     "name": "stderr",
     "output_type": "stream",
     "text": [
      "  6%|▌         | 43/762 [03:27<1:14:49,  6.24s/it]"
     ]
    },
    {
     "name": "stdout",
     "output_type": "stream",
     "text": [
      "수집 하고자 하는 데이터 중 없는 데이터 (주로 줄거리) 가 있어서 에러가 발생함.\n"
     ]
    },
    {
     "name": "stderr",
     "output_type": "stream",
     "text": [
      " 12%|█▏        | 90/762 [07:15<1:18:55,  7.05s/it]"
     ]
    },
    {
     "name": "stdout",
     "output_type": "stream",
     "text": [
      "수집 하고자 하는 데이터 중 없는 데이터 (주로 줄거리) 가 있어서 에러가 발생함.\n"
     ]
    },
    {
     "name": "stderr",
     "output_type": "stream",
     "text": [
      " 12%|█▏        | 93/762 [07:28<1:00:03,  5.39s/it]"
     ]
    },
    {
     "name": "stdout",
     "output_type": "stream",
     "text": [
      "수집 하고자 하는 데이터 중 없는 데이터 (주로 줄거리) 가 있어서 에러가 발생함.\n"
     ]
    },
    {
     "name": "stderr",
     "output_type": "stream",
     "text": [
      " 18%|█▊        | 136/762 [10:46<46:30,  4.46s/it] "
     ]
    },
    {
     "name": "stdout",
     "output_type": "stream",
     "text": [
      "수집 하고자 하는 데이터 중 없는 데이터 (주로 줄거리) 가 있어서 에러가 발생함.\n"
     ]
    },
    {
     "name": "stderr",
     "output_type": "stream",
     "text": [
      " 19%|█▉        | 147/762 [11:44<1:11:27,  6.97s/it]"
     ]
    },
    {
     "name": "stdout",
     "output_type": "stream",
     "text": [
      "수집 하고자 하는 데이터 중 없는 데이터 (주로 줄거리) 가 있어서 에러가 발생함.\n"
     ]
    },
    {
     "name": "stderr",
     "output_type": "stream",
     "text": [
      " 20%|██        | 154/762 [12:17<47:39,  4.70s/it]  "
     ]
    },
    {
     "name": "stdout",
     "output_type": "stream",
     "text": [
      "수집 하고자 하는 데이터 중 없는 데이터 (주로 줄거리) 가 있어서 에러가 발생함.\n"
     ]
    },
    {
     "name": "stderr",
     "output_type": "stream",
     "text": [
      " 22%|██▏       | 165/762 [13:07<45:12,  4.54s/it]"
     ]
    },
    {
     "name": "stdout",
     "output_type": "stream",
     "text": [
      "수집 하고자 하는 데이터 중 없는 데이터 (주로 줄거리) 가 있어서 에러가 발생함.\n"
     ]
    },
    {
     "name": "stderr",
     "output_type": "stream",
     "text": [
      " 22%|██▏       | 166/762 [13:11<44:32,  4.48s/it]"
     ]
    },
    {
     "name": "stdout",
     "output_type": "stream",
     "text": [
      "수집 하고자 하는 데이터 중 없는 데이터 (주로 줄거리) 가 있어서 에러가 발생함.\n"
     ]
    },
    {
     "name": "stderr",
     "output_type": "stream",
     "text": [
      " 22%|██▏       | 167/762 [13:16<44:15,  4.46s/it]"
     ]
    },
    {
     "name": "stdout",
     "output_type": "stream",
     "text": [
      "수집 하고자 하는 데이터 중 없는 데이터 (주로 줄거리) 가 있어서 에러가 발생함.\n"
     ]
    },
    {
     "name": "stderr",
     "output_type": "stream",
     "text": [
      " 23%|██▎       | 173/762 [13:51<1:09:11,  7.05s/it]"
     ]
    },
    {
     "name": "stdout",
     "output_type": "stream",
     "text": [
      "수집 하고자 하는 데이터 중 없는 데이터 (주로 줄거리) 가 있어서 에러가 발생함.\n"
     ]
    },
    {
     "name": "stderr",
     "output_type": "stream",
     "text": [
      " 24%|██▍       | 186/762 [14:50<42:32,  4.43s/it]  "
     ]
    },
    {
     "name": "stdout",
     "output_type": "stream",
     "text": [
      "수집 하고자 하는 데이터 중 없는 데이터 (주로 줄거리) 가 있어서 에러가 발생함.\n"
     ]
    },
    {
     "name": "stderr",
     "output_type": "stream",
     "text": [
      " 25%|██▍       | 190/762 [15:09<44:31,  4.67s/it]"
     ]
    },
    {
     "name": "stdout",
     "output_type": "stream",
     "text": [
      "수집 하고자 하는 데이터 중 없는 데이터 (주로 줄거리) 가 있어서 에러가 발생함.\n"
     ]
    },
    {
     "name": "stderr",
     "output_type": "stream",
     "text": [
      " 25%|██▌       | 191/762 [15:13<43:12,  4.54s/it]"
     ]
    },
    {
     "name": "stdout",
     "output_type": "stream",
     "text": [
      "수집 하고자 하는 데이터 중 없는 데이터 (주로 줄거리) 가 있어서 에러가 발생함.\n"
     ]
    },
    {
     "name": "stderr",
     "output_type": "stream",
     "text": [
      " 27%|██▋       | 203/762 [16:08<42:51,  4.60s/it]"
     ]
    },
    {
     "name": "stdout",
     "output_type": "stream",
     "text": [
      "수집 하고자 하는 데이터 중 없는 데이터 (주로 줄거리) 가 있어서 에러가 발생함.\n"
     ]
    },
    {
     "name": "stderr",
     "output_type": "stream",
     "text": [
      " 28%|██▊       | 213/762 [16:54<40:59,  4.48s/it]"
     ]
    },
    {
     "name": "stdout",
     "output_type": "stream",
     "text": [
      "수집 하고자 하는 데이터 중 없는 데이터 (주로 줄거리) 가 있어서 에러가 발생함.\n"
     ]
    },
    {
     "name": "stderr",
     "output_type": "stream",
     "text": [
      " 29%|██▊       | 219/762 [17:20<40:11,  4.44s/it]"
     ]
    },
    {
     "name": "stdout",
     "output_type": "stream",
     "text": [
      "수집 하고자 하는 데이터 중 없는 데이터 (주로 줄거리) 가 있어서 에러가 발생함.\n"
     ]
    },
    {
     "name": "stderr",
     "output_type": "stream",
     "text": [
      " 30%|██▉       | 225/762 [17:47<39:01,  4.36s/it]"
     ]
    },
    {
     "name": "stdout",
     "output_type": "stream",
     "text": [
      "수집 하고자 하는 데이터 중 없는 데이터 (주로 줄거리) 가 있어서 에러가 발생함.\n"
     ]
    },
    {
     "name": "stderr",
     "output_type": "stream",
     "text": [
      " 30%|███       | 231/762 [18:13<37:53,  4.28s/it]"
     ]
    },
    {
     "name": "stdout",
     "output_type": "stream",
     "text": [
      "수집 하고자 하는 데이터 중 없는 데이터 (주로 줄거리) 가 있어서 에러가 발생함.\n"
     ]
    },
    {
     "name": "stderr",
     "output_type": "stream",
     "text": [
      " 32%|███▏      | 241/762 [19:07<1:00:09,  6.93s/it]"
     ]
    },
    {
     "name": "stdout",
     "output_type": "stream",
     "text": [
      "수집 하고자 하는 데이터 중 없는 데이터 (주로 줄거리) 가 있어서 에러가 발생함.\n"
     ]
    },
    {
     "name": "stderr",
     "output_type": "stream",
     "text": [
      " 35%|███▌      | 268/762 [21:16<56:36,  6.88s/it]  "
     ]
    },
    {
     "name": "stdout",
     "output_type": "stream",
     "text": [
      "수집 하고자 하는 데이터 중 없는 데이터 (주로 줄거리) 가 있어서 에러가 발생함.\n"
     ]
    },
    {
     "name": "stderr",
     "output_type": "stream",
     "text": [
      " 36%|███▌      | 275/762 [21:47<37:10,  4.58s/it]"
     ]
    },
    {
     "name": "stdout",
     "output_type": "stream",
     "text": [
      "수집 하고자 하는 데이터 중 없는 데이터 (주로 줄거리) 가 있어서 에러가 발생함.\n"
     ]
    },
    {
     "name": "stderr",
     "output_type": "stream",
     "text": [
      " 38%|███▊      | 290/762 [22:53<34:40,  4.41s/it]"
     ]
    },
    {
     "name": "stdout",
     "output_type": "stream",
     "text": [
      "수집 하고자 하는 데이터 중 없는 데이터 (주로 줄거리) 가 있어서 에러가 발생함.\n"
     ]
    },
    {
     "name": "stderr",
     "output_type": "stream",
     "text": [
      " 39%|███▉      | 300/762 [23:37<33:09,  4.31s/it]"
     ]
    },
    {
     "name": "stdout",
     "output_type": "stream",
     "text": [
      "수집 하고자 하는 데이터 중 없는 데이터 (주로 줄거리) 가 있어서 에러가 발생함.\n"
     ]
    },
    {
     "name": "stderr",
     "output_type": "stream",
     "text": [
      " 40%|███▉      | 303/762 [23:50<33:26,  4.37s/it]"
     ]
    },
    {
     "name": "stdout",
     "output_type": "stream",
     "text": [
      "수집 하고자 하는 데이터 중 없는 데이터 (주로 줄거리) 가 있어서 에러가 발생함.\n"
     ]
    },
    {
     "name": "stderr",
     "output_type": "stream",
     "text": [
      " 40%|████      | 306/762 [24:03<32:33,  4.28s/it]"
     ]
    },
    {
     "name": "stdout",
     "output_type": "stream",
     "text": [
      "수집 하고자 하는 데이터 중 없는 데이터 (주로 줄거리) 가 있어서 에러가 발생함.\n"
     ]
    },
    {
     "name": "stderr",
     "output_type": "stream",
     "text": [
      " 41%|████      | 311/762 [24:24<31:56,  4.25s/it]"
     ]
    },
    {
     "name": "stdout",
     "output_type": "stream",
     "text": [
      "수집 하고자 하는 데이터 중 없는 데이터 (주로 줄거리) 가 있어서 에러가 발생함.\n"
     ]
    },
    {
     "name": "stderr",
     "output_type": "stream",
     "text": [
      " 41%|████      | 312/762 [24:28<32:03,  4.27s/it]"
     ]
    },
    {
     "name": "stdout",
     "output_type": "stream",
     "text": [
      "수집 하고자 하는 데이터 중 없는 데이터 (주로 줄거리) 가 있어서 에러가 발생함.\n"
     ]
    },
    {
     "name": "stderr",
     "output_type": "stream",
     "text": [
      " 41%|████      | 314/762 [24:37<31:43,  4.25s/it]"
     ]
    },
    {
     "name": "stdout",
     "output_type": "stream",
     "text": [
      "수집 하고자 하는 데이터 중 없는 데이터 (주로 줄거리) 가 있어서 에러가 발생함.\n"
     ]
    },
    {
     "name": "stderr",
     "output_type": "stream",
     "text": [
      " 43%|████▎     | 329/762 [25:46<33:32,  4.65s/it]"
     ]
    },
    {
     "name": "stdout",
     "output_type": "stream",
     "text": [
      "수집 하고자 하는 데이터 중 없는 데이터 (주로 줄거리) 가 있어서 에러가 발생함.\n"
     ]
    },
    {
     "name": "stderr",
     "output_type": "stream",
     "text": [
      " 44%|████▍     | 334/762 [26:09<31:53,  4.47s/it]"
     ]
    },
    {
     "name": "stdout",
     "output_type": "stream",
     "text": [
      "수집 하고자 하는 데이터 중 없는 데이터 (주로 줄거리) 가 있어서 에러가 발생함.\n"
     ]
    },
    {
     "name": "stderr",
     "output_type": "stream",
     "text": [
      " 44%|████▍     | 335/762 [26:13<31:36,  4.44s/it]"
     ]
    },
    {
     "name": "stdout",
     "output_type": "stream",
     "text": [
      "수집 하고자 하는 데이터 중 없는 데이터 (주로 줄거리) 가 있어서 에러가 발생함.\n"
     ]
    },
    {
     "name": "stderr",
     "output_type": "stream",
     "text": [
      " 44%|████▍     | 336/762 [26:18<31:54,  4.49s/it]"
     ]
    },
    {
     "name": "stdout",
     "output_type": "stream",
     "text": [
      "수집 하고자 하는 데이터 중 없는 데이터 (주로 줄거리) 가 있어서 에러가 발생함.\n"
     ]
    },
    {
     "name": "stderr",
     "output_type": "stream",
     "text": [
      " 44%|████▍     | 337/762 [26:22<31:50,  4.50s/it]"
     ]
    },
    {
     "name": "stdout",
     "output_type": "stream",
     "text": [
      "수집 하고자 하는 데이터 중 없는 데이터 (주로 줄거리) 가 있어서 에러가 발생함.\n"
     ]
    },
    {
     "name": "stderr",
     "output_type": "stream",
     "text": [
      " 44%|████▍     | 339/762 [26:39<49:12,  6.98s/it]"
     ]
    },
    {
     "name": "stdout",
     "output_type": "stream",
     "text": [
      "수집 하고자 하는 데이터 중 없는 데이터 (주로 줄거리) 가 있어서 에러가 발생함.\n"
     ]
    },
    {
     "name": "stderr",
     "output_type": "stream",
     "text": [
      " 45%|████▍     | 340/762 [26:52<1:00:46,  8.64s/it]"
     ]
    },
    {
     "name": "stdout",
     "output_type": "stream",
     "text": [
      "수집 하고자 하는 데이터 중 없는 데이터 (주로 줄거리) 가 있어서 에러가 발생함.\n"
     ]
    },
    {
     "name": "stderr",
     "output_type": "stream",
     "text": [
      " 45%|████▍     | 342/762 [27:01<45:59,  6.57s/it]  "
     ]
    },
    {
     "name": "stdout",
     "output_type": "stream",
     "text": [
      "수집 하고자 하는 데이터 중 없는 데이터 (주로 줄거리) 가 있어서 에러가 발생함.\n"
     ]
    },
    {
     "name": "stderr",
     "output_type": "stream",
     "text": [
      " 47%|████▋     | 361/762 [28:30<30:23,  4.55s/it]"
     ]
    },
    {
     "name": "stdout",
     "output_type": "stream",
     "text": [
      "수집 하고자 하는 데이터 중 없는 데이터 (주로 줄거리) 가 있어서 에러가 발생함.\n"
     ]
    },
    {
     "name": "stderr",
     "output_type": "stream",
     "text": [
      " 48%|████▊     | 364/762 [28:52<46:40,  7.04s/it]"
     ]
    },
    {
     "name": "stdout",
     "output_type": "stream",
     "text": [
      "수집 하고자 하는 데이터 중 없는 데이터 (주로 줄거리) 가 있어서 에러가 발생함.\n"
     ]
    },
    {
     "name": "stderr",
     "output_type": "stream",
     "text": [
      " 48%|████▊     | 368/762 [29:18<49:28,  7.53s/it]"
     ]
    },
    {
     "name": "stdout",
     "output_type": "stream",
     "text": [
      "수집 하고자 하는 데이터 중 없는 데이터 (주로 줄거리) 가 있어서 에러가 발생함.\n"
     ]
    },
    {
     "name": "stderr",
     "output_type": "stream",
     "text": [
      " 50%|█████     | 382/762 [30:31<44:26,  7.02s/it]"
     ]
    },
    {
     "name": "stdout",
     "output_type": "stream",
     "text": [
      "수집 하고자 하는 데이터 중 없는 데이터 (주로 줄거리) 가 있어서 에러가 발생함.\n"
     ]
    },
    {
     "name": "stderr",
     "output_type": "stream",
     "text": [
      " 50%|█████     | 384/762 [30:40<36:18,  5.76s/it]"
     ]
    },
    {
     "name": "stdout",
     "output_type": "stream",
     "text": [
      "수집 하고자 하는 데이터 중 없는 데이터 (주로 줄거리) 가 있어서 에러가 발생함.\n"
     ]
    },
    {
     "name": "stderr",
     "output_type": "stream",
     "text": [
      " 51%|█████     | 385/762 [30:45<34:00,  5.41s/it]"
     ]
    },
    {
     "name": "stdout",
     "output_type": "stream",
     "text": [
      "수집 하고자 하는 데이터 중 없는 데이터 (주로 줄거리) 가 있어서 에러가 발생함.\n"
     ]
    },
    {
     "name": "stderr",
     "output_type": "stream",
     "text": [
      " 51%|█████     | 388/762 [30:58<30:09,  4.84s/it]"
     ]
    },
    {
     "name": "stdout",
     "output_type": "stream",
     "text": [
      "수집 하고자 하는 데이터 중 없는 데이터 (주로 줄거리) 가 있어서 에러가 발생함.\n"
     ]
    },
    {
     "name": "stderr",
     "output_type": "stream",
     "text": [
      " 51%|█████     | 389/762 [31:03<29:23,  4.73s/it]"
     ]
    },
    {
     "name": "stdout",
     "output_type": "stream",
     "text": [
      "수집 하고자 하는 데이터 중 없는 데이터 (주로 줄거리) 가 있어서 에러가 발생함.\n"
     ]
    },
    {
     "name": "stderr",
     "output_type": "stream",
     "text": [
      " 52%|█████▏    | 397/762 [31:39<27:18,  4.49s/it]"
     ]
    },
    {
     "name": "stdout",
     "output_type": "stream",
     "text": [
      "수집 하고자 하는 데이터 중 없는 데이터 (주로 줄거리) 가 있어서 에러가 발생함.\n"
     ]
    },
    {
     "name": "stderr",
     "output_type": "stream",
     "text": [
      " 54%|█████▍    | 411/762 [32:51<40:50,  6.98s/it]"
     ]
    },
    {
     "name": "stdout",
     "output_type": "stream",
     "text": [
      "수집 하고자 하는 데이터 중 없는 데이터 (주로 줄거리) 가 있어서 에러가 발생함.\n"
     ]
    },
    {
     "name": "stderr",
     "output_type": "stream",
     "text": [
      " 54%|█████▍    | 415/762 [33:10<29:54,  5.17s/it]"
     ]
    },
    {
     "name": "stdout",
     "output_type": "stream",
     "text": [
      "수집 하고자 하는 데이터 중 없는 데이터 (주로 줄거리) 가 있어서 에러가 발생함.\n"
     ]
    },
    {
     "name": "stderr",
     "output_type": "stream",
     "text": [
      " 55%|█████▌    | 421/762 [33:38<26:54,  4.73s/it]"
     ]
    },
    {
     "name": "stdout",
     "output_type": "stream",
     "text": [
      "수집 하고자 하는 데이터 중 없는 데이터 (주로 줄거리) 가 있어서 에러가 발생함.\n"
     ]
    },
    {
     "name": "stderr",
     "output_type": "stream",
     "text": [
      " 57%|█████▋    | 433/762 [34:34<25:33,  4.66s/it]"
     ]
    },
    {
     "name": "stdout",
     "output_type": "stream",
     "text": [
      "수집 하고자 하는 데이터 중 없는 데이터 (주로 줄거리) 가 있어서 에러가 발생함.\n"
     ]
    },
    {
     "name": "stderr",
     "output_type": "stream",
     "text": [
      " 59%|█████▊    | 447/762 [35:47<37:12,  7.09s/it]"
     ]
    },
    {
     "name": "stdout",
     "output_type": "stream",
     "text": [
      "수집 하고자 하는 데이터 중 없는 데이터 (주로 줄거리) 가 있어서 에러가 발생함.\n"
     ]
    },
    {
     "name": "stderr",
     "output_type": "stream",
     "text": [
      " 60%|█████▉    | 455/762 [36:23<23:50,  4.66s/it]"
     ]
    },
    {
     "name": "stdout",
     "output_type": "stream",
     "text": [
      "수집 하고자 하는 데이터 중 없는 데이터 (주로 줄거리) 가 있어서 에러가 발생함.\n"
     ]
    },
    {
     "name": "stderr",
     "output_type": "stream",
     "text": [
      " 61%|██████    | 465/762 [37:09<22:55,  4.63s/it]"
     ]
    },
    {
     "name": "stdout",
     "output_type": "stream",
     "text": [
      "수집 하고자 하는 데이터 중 없는 데이터 (주로 줄거리) 가 있어서 에러가 발생함.\n"
     ]
    },
    {
     "name": "stderr",
     "output_type": "stream",
     "text": [
      " 61%|██████▏   | 467/762 [37:18<22:31,  4.58s/it]"
     ]
    },
    {
     "name": "stdout",
     "output_type": "stream",
     "text": [
      "수집 하고자 하는 데이터 중 없는 데이터 (주로 줄거리) 가 있어서 에러가 발생함.\n"
     ]
    },
    {
     "name": "stderr",
     "output_type": "stream",
     "text": [
      " 63%|██████▎   | 481/762 [38:23<20:34,  4.39s/it]"
     ]
    },
    {
     "name": "stdout",
     "output_type": "stream",
     "text": [
      "수집 하고자 하는 데이터 중 없는 데이터 (주로 줄거리) 가 있어서 에러가 발생함.\n"
     ]
    },
    {
     "name": "stderr",
     "output_type": "stream",
     "text": [
      " 64%|██████▎   | 485/762 [38:42<20:50,  4.52s/it]"
     ]
    },
    {
     "name": "stdout",
     "output_type": "stream",
     "text": [
      "수집 하고자 하는 데이터 중 없는 데이터 (주로 줄거리) 가 있어서 에러가 발생함.\n"
     ]
    },
    {
     "name": "stderr",
     "output_type": "stream",
     "text": [
      " 64%|██████▍   | 489/762 [39:00<20:43,  4.56s/it]"
     ]
    },
    {
     "name": "stdout",
     "output_type": "stream",
     "text": [
      "수집 하고자 하는 데이터 중 없는 데이터 (주로 줄거리) 가 있어서 에러가 발생함.\n"
     ]
    },
    {
     "name": "stderr",
     "output_type": "stream",
     "text": [
      " 64%|██████▍   | 491/762 [39:09<20:28,  4.53s/it]"
     ]
    },
    {
     "name": "stdout",
     "output_type": "stream",
     "text": [
      "수집 하고자 하는 데이터 중 없는 데이터 (주로 줄거리) 가 있어서 에러가 발생함.\n"
     ]
    },
    {
     "name": "stderr",
     "output_type": "stream",
     "text": [
      " 65%|██████▍   | 493/762 [39:18<20:15,  4.52s/it]"
     ]
    },
    {
     "name": "stdout",
     "output_type": "stream",
     "text": [
      "수집 하고자 하는 데이터 중 없는 데이터 (주로 줄거리) 가 있어서 에러가 발생함.\n"
     ]
    },
    {
     "name": "stderr",
     "output_type": "stream",
     "text": [
      " 66%|██████▋   | 505/762 [40:13<19:26,  4.54s/it]"
     ]
    },
    {
     "name": "stdout",
     "output_type": "stream",
     "text": [
      "수집 하고자 하는 데이터 중 없는 데이터 (주로 줄거리) 가 있어서 에러가 발생함.\n"
     ]
    },
    {
     "name": "stderr",
     "output_type": "stream",
     "text": [
      " 67%|██████▋   | 507/762 [40:22<19:03,  4.49s/it]"
     ]
    },
    {
     "name": "stdout",
     "output_type": "stream",
     "text": [
      "수집 하고자 하는 데이터 중 없는 데이터 (주로 줄거리) 가 있어서 에러가 발생함.\n"
     ]
    },
    {
     "name": "stderr",
     "output_type": "stream",
     "text": [
      " 70%|██████▉   | 531/762 [42:13<17:33,  4.56s/it]"
     ]
    },
    {
     "name": "stdout",
     "output_type": "stream",
     "text": [
      "수집 하고자 하는 데이터 중 없는 데이터 (주로 줄거리) 가 있어서 에러가 발생함.\n"
     ]
    },
    {
     "name": "stderr",
     "output_type": "stream",
     "text": [
      " 71%|███████▏  | 543/762 [43:17<25:21,  6.95s/it]"
     ]
    },
    {
     "name": "stdout",
     "output_type": "stream",
     "text": [
      "수집 하고자 하는 데이터 중 없는 데이터 (주로 줄거리) 가 있어서 에러가 발생함.\n"
     ]
    },
    {
     "name": "stderr",
     "output_type": "stream",
     "text": [
      " 73%|███████▎  | 558/762 [44:27<15:33,  4.58s/it]"
     ]
    },
    {
     "name": "stdout",
     "output_type": "stream",
     "text": [
      "수집 하고자 하는 데이터 중 없는 데이터 (주로 줄거리) 가 있어서 에러가 발생함.\n"
     ]
    },
    {
     "name": "stderr",
     "output_type": "stream",
     "text": [
      " 75%|███████▍  | 568/762 [45:13<14:36,  4.52s/it]"
     ]
    },
    {
     "name": "stdout",
     "output_type": "stream",
     "text": [
      "수집 하고자 하는 데이터 중 없는 데이터 (주로 줄거리) 가 있어서 에러가 발생함.\n"
     ]
    },
    {
     "name": "stderr",
     "output_type": "stream",
     "text": [
      " 78%|███████▊  | 598/762 [47:30<12:14,  4.48s/it]"
     ]
    },
    {
     "name": "stdout",
     "output_type": "stream",
     "text": [
      "수집 하고자 하는 데이터 중 없는 데이터 (주로 줄거리) 가 있어서 에러가 발생함.\n"
     ]
    },
    {
     "name": "stderr",
     "output_type": "stream",
     "text": [
      " 80%|███████▉  | 606/762 [48:07<11:45,  4.52s/it]"
     ]
    },
    {
     "name": "stdout",
     "output_type": "stream",
     "text": [
      "수집 하고자 하는 데이터 중 없는 데이터 (주로 줄거리) 가 있어서 에러가 발생함.\n"
     ]
    },
    {
     "name": "stderr",
     "output_type": "stream",
     "text": [
      " 80%|████████  | 610/762 [48:25<11:23,  4.50s/it]"
     ]
    },
    {
     "name": "stdout",
     "output_type": "stream",
     "text": [
      "수집 하고자 하는 데이터 중 없는 데이터 (주로 줄거리) 가 있어서 에러가 발생함.\n"
     ]
    },
    {
     "name": "stderr",
     "output_type": "stream",
     "text": [
      " 80%|████████  | 612/762 [48:34<11:19,  4.53s/it]"
     ]
    },
    {
     "name": "stdout",
     "output_type": "stream",
     "text": [
      "수집 하고자 하는 데이터 중 없는 데이터 (주로 줄거리) 가 있어서 에러가 발생함.\n"
     ]
    },
    {
     "name": "stderr",
     "output_type": "stream",
     "text": [
      " 81%|████████▏ | 620/762 [49:11<10:53,  4.60s/it]"
     ]
    },
    {
     "name": "stdout",
     "output_type": "stream",
     "text": [
      "수집 하고자 하는 데이터 중 없는 데이터 (주로 줄거리) 가 있어서 에러가 발생함.\n"
     ]
    },
    {
     "name": "stderr",
     "output_type": "stream",
     "text": [
      " 83%|████████▎ | 636/762 [50:32<14:24,  6.86s/it]"
     ]
    },
    {
     "name": "stdout",
     "output_type": "stream",
     "text": [
      "수집 하고자 하는 데이터 중 없는 데이터 (주로 줄거리) 가 있어서 에러가 발생함.\n"
     ]
    },
    {
     "name": "stderr",
     "output_type": "stream",
     "text": [
      " 84%|████████▍ | 643/762 [51:13<14:29,  7.31s/it]"
     ]
    },
    {
     "name": "stdout",
     "output_type": "stream",
     "text": [
      "수집 하고자 하는 데이터 중 없는 데이터 (주로 줄거리) 가 있어서 에러가 발생함.\n"
     ]
    },
    {
     "name": "stderr",
     "output_type": "stream",
     "text": [
      " 85%|████████▍ | 647/762 [51:32<10:02,  5.24s/it]"
     ]
    },
    {
     "name": "stdout",
     "output_type": "stream",
     "text": [
      "수집 하고자 하는 데이터 중 없는 데이터 (주로 줄거리) 가 있어서 에러가 발생함.\n"
     ]
    },
    {
     "name": "stderr",
     "output_type": "stream",
     "text": [
      " 86%|████████▌ | 652/762 [51:55<08:35,  4.68s/it]"
     ]
    },
    {
     "name": "stdout",
     "output_type": "stream",
     "text": [
      "수집 하고자 하는 데이터 중 없는 데이터 (주로 줄거리) 가 있어서 에러가 발생함.\n"
     ]
    },
    {
     "name": "stderr",
     "output_type": "stream",
     "text": [
      " 86%|████████▋ | 659/762 [52:27<07:48,  4.55s/it]"
     ]
    },
    {
     "name": "stdout",
     "output_type": "stream",
     "text": [
      "수집 하고자 하는 데이터 중 없는 데이터 (주로 줄거리) 가 있어서 에러가 발생함.\n"
     ]
    },
    {
     "name": "stderr",
     "output_type": "stream",
     "text": [
      " 89%|████████▊ | 675/762 [53:40<06:27,  4.45s/it]"
     ]
    },
    {
     "name": "stdout",
     "output_type": "stream",
     "text": [
      "수집 하고자 하는 데이터 중 없는 데이터 (주로 줄거리) 가 있어서 에러가 발생함.\n"
     ]
    },
    {
     "name": "stderr",
     "output_type": "stream",
     "text": [
      " 89%|████████▉ | 680/762 [54:11<09:36,  7.03s/it]"
     ]
    },
    {
     "name": "stdout",
     "output_type": "stream",
     "text": [
      "수집 하고자 하는 데이터 중 없는 데이터 (주로 줄거리) 가 있어서 에러가 발생함.\n"
     ]
    },
    {
     "name": "stderr",
     "output_type": "stream",
     "text": [
      " 90%|████████▉ | 685/762 [54:34<06:27,  5.04s/it]"
     ]
    },
    {
     "name": "stdout",
     "output_type": "stream",
     "text": [
      "수집 하고자 하는 데이터 중 없는 데이터 (주로 줄거리) 가 있어서 에러가 발생함.\n"
     ]
    },
    {
     "name": "stderr",
     "output_type": "stream",
     "text": [
      " 93%|█████████▎| 707/762 [56:16<04:07,  4.51s/it]"
     ]
    },
    {
     "name": "stdout",
     "output_type": "stream",
     "text": [
      "수집 하고자 하는 데이터 중 없는 데이터 (주로 줄거리) 가 있어서 에러가 발생함.\n"
     ]
    },
    {
     "name": "stderr",
     "output_type": "stream",
     "text": [
      " 93%|█████████▎| 708/762 [56:29<06:14,  6.94s/it]"
     ]
    },
    {
     "name": "stdout",
     "output_type": "stream",
     "text": [
      "수집 하고자 하는 데이터 중 없는 데이터 (주로 줄거리) 가 있어서 에러가 발생함.\n"
     ]
    },
    {
     "name": "stderr",
     "output_type": "stream",
     "text": [
      " 93%|█████████▎| 709/762 [56:42<07:42,  8.73s/it]"
     ]
    },
    {
     "name": "stdout",
     "output_type": "stream",
     "text": [
      "수집 하고자 하는 데이터 중 없는 데이터 (주로 줄거리) 가 있어서 에러가 발생함.\n"
     ]
    },
    {
     "name": "stderr",
     "output_type": "stream",
     "text": [
      " 93%|█████████▎| 710/762 [56:55<08:36,  9.93s/it]"
     ]
    },
    {
     "name": "stdout",
     "output_type": "stream",
     "text": [
      "수집 하고자 하는 데이터 중 없는 데이터 (주로 줄거리) 가 있어서 에러가 발생함.\n"
     ]
    },
    {
     "name": "stderr",
     "output_type": "stream",
     "text": [
      " 94%|█████████▎| 714/762 [57:21<06:37,  8.29s/it]"
     ]
    },
    {
     "name": "stdout",
     "output_type": "stream",
     "text": [
      "수집 하고자 하는 데이터 중 없는 데이터 (주로 줄거리) 가 있어서 에러가 발생함.\n"
     ]
    },
    {
     "name": "stderr",
     "output_type": "stream",
     "text": [
      " 95%|█████████▌| 725/762 [58:13<02:55,  4.73s/it]"
     ]
    },
    {
     "name": "stdout",
     "output_type": "stream",
     "text": [
      "수집 하고자 하는 데이터 중 없는 데이터 (주로 줄거리) 가 있어서 에러가 발생함.\n"
     ]
    },
    {
     "name": "stderr",
     "output_type": "stream",
     "text": [
      " 95%|█████████▌| 726/762 [58:17<02:39,  4.42s/it]"
     ]
    },
    {
     "name": "stdout",
     "output_type": "stream",
     "text": [
      "수집 하고자 하는 데이터 중 없는 데이터 (주로 줄거리) 가 있어서 에러가 발생함.\n"
     ]
    },
    {
     "name": "stderr",
     "output_type": "stream",
     "text": [
      " 97%|█████████▋| 740/762 [59:30<02:34,  7.00s/it]"
     ]
    },
    {
     "name": "stdout",
     "output_type": "stream",
     "text": [
      "수집 하고자 하는 데이터 중 없는 데이터 (주로 줄거리) 가 있어서 에러가 발생함.\n"
     ]
    },
    {
     "name": "stderr",
     "output_type": "stream",
     "text": [
      " 97%|█████████▋| 742/762 [59:39<01:55,  5.77s/it]"
     ]
    },
    {
     "name": "stdout",
     "output_type": "stream",
     "text": [
      "수집 하고자 하는 데이터 중 없는 데이터 (주로 줄거리) 가 있어서 에러가 발생함.\n"
     ]
    },
    {
     "name": "stderr",
     "output_type": "stream",
     "text": [
      " 98%|█████████▊| 745/762 [59:53<01:25,  5.04s/it]"
     ]
    },
    {
     "name": "stdout",
     "output_type": "stream",
     "text": [
      "수집 하고자 하는 데이터 중 없는 데이터 (주로 줄거리) 가 있어서 에러가 발생함.\n"
     ]
    },
    {
     "name": "stderr",
     "output_type": "stream",
     "text": [
      " 98%|█████████▊| 749/762 [1:00:12<01:02,  4.82s/it]"
     ]
    },
    {
     "name": "stdout",
     "output_type": "stream",
     "text": [
      "수집 하고자 하는 데이터 중 없는 데이터 (주로 줄거리) 가 있어서 에러가 발생함.\n"
     ]
    },
    {
     "name": "stderr",
     "output_type": "stream",
     "text": [
      " 99%|█████████▉| 757/762 [1:00:50<00:23,  4.69s/it]"
     ]
    },
    {
     "name": "stdout",
     "output_type": "stream",
     "text": [
      "수집 하고자 하는 데이터 중 없는 데이터 (주로 줄거리) 가 있어서 에러가 발생함.\n"
     ]
    },
    {
     "name": "stderr",
     "output_type": "stream",
     "text": [
      "100%|█████████▉| 761/762 [1:01:08<00:04,  4.42s/it]"
     ]
    },
    {
     "name": "stdout",
     "output_type": "stream",
     "text": [
      "수집 하고자 하는 데이터 중 없는 데이터 (주로 줄거리) 가 있어서 에러가 발생함.\n"
     ]
    },
    {
     "name": "stderr",
     "output_type": "stream",
     "text": [
      "100%|██████████| 762/762 [1:01:12<00:00,  4.82s/it]\n"
     ]
    }
   ],
   "source": [
    "for movie in tqdm(movie_list):\n",
    "    # 해당 웹 페이지에서\n",
    "    ## id 속성이 nx_query 인 객체를 search_box에 할당\n",
    "    search_box = driver.find_element(By.ID, 'nx_query')\n",
    "    # 기존 입력한 메세지 삭제\n",
    "    search_box.clear()\n",
    "    time.sleep(1)\n",
    "    \n",
    "    ## 영화 검색 시작\n",
    "    search_box.send_keys(\"영화 \", movie)\n",
    "    # 클래스 속성이 bt_search인 객체 리턴\n",
    "    search_btn = driver.find_element(By.CLASS_NAME, 'bt_search')\n",
    "    # 버튼 클릭\n",
    "    search_btn.click()\n",
    "    time.sleep(1)\n",
    "    \n",
    "    try:\n",
    "        ### 영화 기본 정보 창 띄우기\n",
    "        # 클래스 속성이 tab_list 인 객체 리턴\n",
    "        tab_list = driver.find_element(By.CLASS_NAME, 'tab_list')\n",
    "        # 클래스 속성이 tab _tab (클래스 속성이 tab _tab 2개 적용) 인 객체들 (여러 개) 중 인덱스 1인 객체 리턴\n",
    "        tab = tab_list.find_elements(By.CSS_SELECTOR, \".tab._tab\")[1]\n",
    "        tab.click()\n",
    "        time.sleep(1)\n",
    "        \n",
    "        ### 영화 기본 정보 창의 페이지 소스\n",
    "        html = driver.page_source\n",
    "        # 페이지의 정보를 추출 할  soup 객체 생성\n",
    "        soup = BeautifulSoup(html, 'html.parser')\n",
    "\n",
    "        ### 영화 제목 추출\n",
    "        title = soup.select_one(\".area_text_title\").text\n",
    "\n",
    "        ### 영화 포스터 url 추출\n",
    "        detail_info = soup.select_one(\".detail_info\")\n",
    "        img = detail_info.select_one(\"._img\")\n",
    "        poster = img['src']\n",
    "\n",
    "        ### 영화 상세 정보 추출\n",
    "        ### 상영일, 등급, 장르, 제작 국가, 상영시간\n",
    "        info_group = soup.select_one(\".info.txt_4\")\n",
    "        dd_list = info_group.select(\"dd\")\n",
    "        open_date = dd_list[0].text\n",
    "        degree = dd_list[1].text\n",
    "        genre = dd_list[2].text\n",
    "        country = dd_list[3].text\n",
    "        movie_time = dd_list[4].text\n",
    "        \n",
    "        ### 영화 줄거리 추출\n",
    "        synopsis = soup.select_one(\".text._content_text\").text\n",
    "        \n",
    "        ### 연결된 DB의 테이블에 삽입하는 SQL 구문\n",
    "        sql = \"INSERT INTO movie (title, poster, degree, genre, open_date, country, movie_time, synopsis) \"\n",
    "        sql += \"VALUES(%s, %s, %s, %s, %s, %s, %s, %s)\"\n",
    "        \n",
    "        ### SQL 구문 실행\n",
    "        cursor.execute(sql, (title, poster, degree, genre, open_date, country, movie_time, synopsis))\n",
    "        \n",
    "        db.commit()\n",
    "        \n",
    "    except Exception as e:\n",
    "        # print(e)\n",
    "        print(\"수집 하고자 하는 데이터 중 없는 데이터 (주로 줄거리) 가 있어서 에러가 발생함.\")"
   ]
  },
  {
   "cell_type": "code",
   "execution_count": 18,
   "id": "6c9ca5f7",
   "metadata": {},
   "outputs": [],
   "source": [
    "### 위 실행이 전부 완료되면 닫기\n",
    "db.close()"
   ]
  },
  {
   "cell_type": "code",
   "execution_count": null,
   "id": "77b96ac5",
   "metadata": {},
   "outputs": [],
   "source": []
  },
  {
   "cell_type": "code",
   "execution_count": null,
   "id": "0bbcad1a",
   "metadata": {},
   "outputs": [],
   "source": []
  },
  {
   "cell_type": "code",
   "execution_count": null,
   "id": "71cdc952",
   "metadata": {},
   "outputs": [],
   "source": []
  },
  {
   "cell_type": "code",
   "execution_count": null,
   "id": "787324fe",
   "metadata": {},
   "outputs": [],
   "source": []
  },
  {
   "cell_type": "code",
   "execution_count": null,
   "id": "37da672a",
   "metadata": {},
   "outputs": [],
   "source": []
  }
 ],
 "metadata": {
  "kernelspec": {
   "display_name": "Python 3 (ipykernel)",
   "language": "python",
   "name": "python3"
  },
  "language_info": {
   "codemirror_mode": {
    "name": "ipython",
    "version": 3
   },
   "file_extension": ".py",
   "mimetype": "text/x-python",
   "name": "python",
   "nbconvert_exporter": "python",
   "pygments_lexer": "ipython3",
   "version": "3.10.9"
  }
 },
 "nbformat": 4,
 "nbformat_minor": 5
}
