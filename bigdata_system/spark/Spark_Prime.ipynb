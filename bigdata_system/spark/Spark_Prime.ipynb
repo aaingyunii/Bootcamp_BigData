{
 "cells": [
  {
   "cell_type": "code",
   "execution_count": 0,
   "metadata": {
    "application/vnd.databricks.v1+cell": {
     "cellMetadata": {
      "byteLimit": 2048000,
      "rowLimit": 10000
     },
     "inputWidgets": {},
     "nuid": "bf7d9214-9c38-487a-b3af-3f263dd9e9a3",
     "showTitle": false,
     "title": ""
    }
   },
   "outputs": [],
   "source": [
    "from pyspark.sql import SparkSession\n",
    "\n",
    "# spark 접속\n",
    "sc = SparkSession.builder\\\n",
    "    .master(\"yarn\")\\\n",
    "    .appName(\"spark_prime01\")\\\n",
    "    .getOrCreate()\n",
    "    "
   ]
  },
  {
   "cell_type": "code",
   "execution_count": 0,
   "metadata": {
    "application/vnd.databricks.v1+cell": {
     "cellMetadata": {
      "byteLimit": 2048000,
      "rowLimit": 10000
     },
     "inputWidgets": {},
     "nuid": "0d3ff5f3-cb96-4564-8867-30c350bba545",
     "showTitle": false,
     "title": ""
    }
   },
   "outputs": [],
   "source": [
    "# 소수를 계산할 최대 수\n",
    "MAX = 500000"
   ]
  },
  {
   "cell_type": "code",
   "execution_count": 0,
   "metadata": {
    "application/vnd.databricks.v1+cell": {
     "cellMetadata": {
      "byteLimit": 2048000,
      "rowLimit": 10000
     },
     "inputWidgets": {},
     "nuid": "e787ef93-5773-4aaf-85cc-29b68de33757",
     "showTitle": false,
     "title": ""
    }
   },
   "outputs": [],
   "source": [
    "# 3 이상 ~ MAX+1 미만의 수 저장할 리스트 생성\n",
    "# 해당 리스트는 8개의 멀티 스레드로 동시 실행\n",
    "rdd = sc.sparkContext.parallelize([ i for i in range(3,MAX+1)], 8)\n"
   ]
  },
  {
   "cell_type": "code",
   "execution_count": 0,
   "metadata": {
    "application/vnd.databricks.v1+cell": {
     "cellMetadata": {
      "byteLimit": 2048000,
      "rowLimit": 10000
     },
     "inputWidgets": {},
     "nuid": "066b74e5-930c-41f9-9576-4ba4bd243114",
     "showTitle": false,
     "title": ""
    }
   },
   "outputs": [],
   "source": [
    "# 소수 계산 함수\n",
    "# rdd에 저장된 값을 순서대로 매개변수 n에 대입\n",
    "def get_prime(n) : \n",
    "    isPrime = True\n",
    "    \n",
    "    for i in range(2,n):\n",
    "        if n % i ==0:\n",
    "            isPrime=False\n",
    "            break\n",
    "    if isPrime :\n",
    "        return n"
   ]
  },
  {
   "cell_type": "code",
   "execution_count": 0,
   "metadata": {
    "application/vnd.databricks.v1+cell": {
     "cellMetadata": {
      "byteLimit": 2048000,
      "rowLimit": 10000
     },
     "inputWidgets": {},
     "nuid": "c0f6b46f-45c2-4617-bb9b-0418b28b15f5",
     "showTitle": false,
     "title": ""
    }
   },
   "outputs": [
    {
     "output_type": "stream",
     "name": "stdout",
     "output_type": "stream",
     "text": [
      "소요시간 :  959.6216773986816\n"
     ]
    }
   ],
   "source": [
    "import time\n",
    "\n",
    "# 현재시간 start에 대입\n",
    "start = time.time()\n",
    "\n",
    "# rdd 에 저장된 숫자들을 순서대로 get_prime에 대입\n",
    "# .collect() : 함수의 실행결과를 가져옴\n",
    "prime_list = rdd.map(get_prime).collect()\n",
    "\n",
    "end = time.time()\n",
    "print(\"소요시간 : \", end-start)"
   ]
  },
  {
   "cell_type": "code",
   "execution_count": 0,
   "metadata": {
    "application/vnd.databricks.v1+cell": {
     "cellMetadata": {},
     "inputWidgets": {},
     "nuid": "26eb3540-e718-47a4-958b-f3b2d8b54cc7",
     "showTitle": false,
     "title": ""
    }
   },
   "outputs": [],
   "source": []
  }
 ],
 "metadata": {
  "application/vnd.databricks.v1+notebook": {
   "dashboards": [],
   "language": "python",
   "notebookMetadata": {
    "pythonIndentUnit": 4
   },
   "notebookName": "Spark_Prime",
   "widgets": {}
  }
 },
 "nbformat": 4,
 "nbformat_minor": 0
}
