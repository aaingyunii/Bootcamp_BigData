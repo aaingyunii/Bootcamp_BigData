{
 "cells": [
  {
   "cell_type": "markdown",
   "metadata": {},
   "source": [
    "- ### 바이낸스 API를 이용해서 \n",
    "### `2023년 9월15일~2023년 9월 26일까지의 매분당 비트 코인 가격`을 수집\n",
    "\n",
    "\n",
    "- ### 수집한 비트코인 가격을 `MySQL`에 저장\n"
   ]
  },
  {
   "cell_type": "code",
   "execution_count": 7,
   "metadata": {},
   "outputs": [],
   "source": [
    "import requests\n",
    "import pandas as pd\n",
    "from datetime import datetime\n",
    "import time\n",
    "import pymysql\n",
    "from tqdm import tqdm"
   ]
  },
  {
   "cell_type": "code",
   "execution_count": 69,
   "metadata": {},
   "outputs": [],
   "source": [
    "# DB 연결\n",
    "db = pymysql.connect(\n",
    "    host='localhost',\n",
    "    port=3306,\n",
    "    user='root',\n",
    "    passwd='8489',\n",
    "    db='coin_db',\n",
    "    charset='utf8'\n",
    ")"
   ]
  },
  {
   "cell_type": "code",
   "execution_count": 70,
   "metadata": {},
   "outputs": [],
   "source": [
    "# DB 쿼리를 실행할 객체\n",
    "cursor = db.cursor()"
   ]
  },
  {
   "cell_type": "code",
   "execution_count": 57,
   "metadata": {},
   "outputs": [],
   "source": [
    "# 비트코인 정보를 가져올 바이넌스 API 주소\n",
    "url = \"http://api.binance.com/api/v3/klines\"\n",
    "\n",
    "# 비트코인 종류 BTCUSDT => 비트코인\n",
    "coin_name = \"BTCUSDT\"\n",
    "\n",
    "# 수집 시작 날짜\n",
    "start_date = '2023-09-15'\n",
    "\n",
    "# 수집 마지막 날짜\n",
    "end_date = '2023-09-26'"
   ]
  },
  {
   "cell_type": "code",
   "execution_count": 12,
   "metadata": {},
   "outputs": [
    {
     "data": {
      "text/plain": [
       "time.struct_time(tm_year=2023, tm_mon=9, tm_mday=15, tm_hour=0, tm_min=0, tm_sec=0, tm_wday=4, tm_yday=258, tm_isdst=-1)"
      ]
     },
     "execution_count": 12,
     "metadata": {},
     "output_type": "execute_result"
    }
   ],
   "source": [
    "# 문자열 형태의 start_date, 0시 0분을 datetime 으로 변환 (변환 결과는 1초 단위)\n",
    "datetime.strptime(start_date + ' 00:00', '%Y-%m-%d %H:%M').timetuple()"
   ]
  },
  {
   "cell_type": "code",
   "execution_count": 13,
   "metadata": {},
   "outputs": [
    {
     "data": {
      "text/plain": [
       "1694703600000"
      ]
     },
     "execution_count": 13,
     "metadata": {},
     "output_type": "execute_result"
    }
   ],
   "source": [
    "# 위의 변환 결과를 정수로 변환\n",
    "## 이를 1000을 곱해 1/1000 단위로 변환\n",
    "\n",
    "int(time.mktime(datetime.strptime(start_date + ' 00:00', '%Y-%m-%d %H:%M').timetuple())) * 1000"
   ]
  },
  {
   "cell_type": "code",
   "execution_count": 74,
   "metadata": {},
   "outputs": [],
   "source": [
    "# end_date는 23시 59분을 기준으로 start_date와 똑같이 하여\n",
    "## 각각 start , end 변수에 할당\n",
    "\n",
    "start = int(time.mktime(datetime.strptime(start_date + ' 00:00', '%Y-%m-%d %H:%M').timetuple())) * 1000\n",
    "\n",
    "end = int(time.mktime(datetime.strptime(end_date + ' 23:59', '%Y-%m-%d %H:%M').timetuple())) * 1000"
   ]
  },
  {
   "cell_type": "code",
   "execution_count": 72,
   "metadata": {},
   "outputs": [
    {
     "data": {
      "text/plain": [
       "1694703600000"
      ]
     },
     "execution_count": 72,
     "metadata": {},
     "output_type": "execute_result"
    }
   ],
   "source": [
    "start"
   ]
  },
  {
   "cell_type": "code",
   "execution_count": 75,
   "metadata": {},
   "outputs": [],
   "source": [
    "# 바이넌스 API 파라미터 정보\n",
    "params = {\n",
    "    'symbol' : coin_name,\n",
    "    'interval' : '1m',  #수집 시간 간격 1분\n",
    "    'limit' : 1000,     #한번에 가져올 데이터 수\n",
    "    'startTime' : start,\n",
    "    'endTime' : end\n",
    "}"
   ]
  },
  {
   "cell_type": "code",
   "execution_count": 76,
   "metadata": {},
   "outputs": [
    {
     "name": "stderr",
     "output_type": "stream",
     "text": [
      "  0%|          | 17/1036740001 [00:31<541690:49:17,  1.88s/it]"
     ]
    },
    {
     "name": "stdout",
     "output_type": "stream",
     "text": [
      "비트코인 수집 완료\n"
     ]
    },
    {
     "name": "stderr",
     "output_type": "stream",
     "text": [
      "\n"
     ]
    }
   ],
   "source": [
    "# 시작 시간부터 끝나는 시간까지\n",
    "\n",
    "# while문에서 tqdm을 직접 쓰기 어려워\n",
    "## 따로 pbar을 만들어 tqdm, 진행상황을 표현\n",
    "pbar = tqdm(total=end - start + 1)\n",
    "\n",
    "while start < end:\n",
    "    params['startTime'] = start     #시작시간 갱신\n",
    "    \n",
    "    #바이낸스 API로부터 가져온 결과를 저장\n",
    "    result = requests.get(url,params=params)\n",
    "    coin_list = result.json()\n",
    "\n",
    "    if not coin_list:\n",
    "        break\n",
    "    \n",
    "    # 코인 가격 하나씩 i 변수에 저장\n",
    "    for i in coin_list:\n",
    "        # print(\"coin= \", i)\n",
    "        \n",
    "        # coin[0] : 비트코인 날짜와 시간이 정수값으로 저장되어있으므로\n",
    "        ## 1000으로 나눠 1초단위로 변환 후 datetime.fromtimestamp을 통해 datetime 형태로 변환\n",
    "        open_time = datetime.fromtimestamp(i[0] // 1000) # 몫의 값만 필요하므로 //\n",
    "        open_price = i[1] # 비트코인의 시가\n",
    "        high_price = i[2] # 고가\n",
    "        low_price = i[3] # 저가\n",
    "        close_price = i[4] # 종가\n",
    "        volume = i[5] # 거래량\n",
    "        \n",
    "        # coin 테이블에 비트코인 정보를 저장할 쿼리\n",
    "        sql = 'insert into coin (open_time,open_price,high_price,low_price,close_price,volume,symbol) '\n",
    "        sql += '    values(%s,      %s,     %s,     %s,     %s,     %s,     %s)'\n",
    "        \n",
    "        # sql 쿼리 실행 (%s에 변수의 값 대입)\n",
    "        cursor.execute(sql,(open_time,open_price,high_price,low_price,close_price,volume,coin_name))\n",
    "        \n",
    "        # 커밋 실행 (DB 저장)\n",
    "        db.commit()\n",
    "        # print(f\"{open_time} : get\")\n",
    "        \n",
    "    # coin_list[-1][0] : 코인 리스트의 마지막 행(-1) 0번째 열 -> 수집한 마지막 시간이 int로 저장되어있음\n",
    "    ## 단위는 1/1000 초\n",
    "    ### 60000 -> 60초 후 시간을 시작 시간으로 데이터 수집\n",
    "    start = coin_list[-1][0] + 60000    #다음 단계, 1분 뒤의 결과\n",
    "    time.sleep(1)\n",
    "    \n",
    "    # tqdm 업데이트\n",
    "    pbar.update(1)\n",
    "    \n",
    "# tqdm 종료\n",
    "pbar.close()\n",
    "\n",
    "# while문 종료, DB 연결 종료\n",
    "print(\"비트코인 수집 완료\")\n",
    "db.close()\n",
    "\n",
    "### 데이터 limit 가 1000 으로 제한되어있음."
   ]
  }
 ],
 "metadata": {
  "kernelspec": {
   "display_name": "h_venv",
   "language": "python",
   "name": "python3"
  },
  "language_info": {
   "codemirror_mode": {
    "name": "ipython",
    "version": 3
   },
   "file_extension": ".py",
   "mimetype": "text/x-python",
   "name": "python",
   "nbconvert_exporter": "python",
   "pygments_lexer": "ipython3",
   "version": "3.10.13"
  },
  "orig_nbformat": 4
 },
 "nbformat": 4,
 "nbformat_minor": 2
}
